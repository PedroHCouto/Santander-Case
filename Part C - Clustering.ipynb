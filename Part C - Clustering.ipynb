{
 "cells": [
  {
   "cell_type": "markdown",
   "metadata": {},
   "source": [
    "# SANTANDER CASE - Data Scientist \n",
    "\n",
    "## c) Clustering\n",
    "\n",
    "The third task is to find the three natural groups that have the highest expected profits per customer. That means the 3 groups that have the highest amount of unsatisfied customers\n",
    "\n",
    "### In order to solve this problem, we are going to do the following steps:\n",
    "- 1 Loading Data and Packeges;\n",
    "- 2 Data Preparation;\n",
    "    - 2.1 Dataset Split (train - test);\n",
    "    - 2.2 Rebuilding the Selected Dataset;\n",
    "    - 2.3 Feature Scaling;\n",
    "- 3 Clusters Number;\n",
    "    - 3.1 Elbow Method;\n",
    "    - 3.2 Silhouette Method; \n",
    "- 4 Results Analysis;\n",
    "- 5 Next steps;\n",
    "- 6 References;"
   ]
  },
  {
   "cell_type": "markdown",
   "metadata": {},
   "source": [
    "### 1 Loading Data and Packages"
   ]
  },
  {
   "cell_type": "code",
   "execution_count": 1,
   "metadata": {},
   "outputs": [],
   "source": [
    "# Loading packages\n",
    "import pandas as pd\n",
    "import numpy as np\n",
    "import matplotlib.pyplot as plt\n",
    "import seaborn as sns\n",
    "import time\n",
    "\n",
    "%matplotlib inline"
   ]
  },
  {
   "cell_type": "code",
   "execution_count": 2,
   "metadata": {},
   "outputs": [],
   "source": [
    "# Loading the Train and Test datasets\n",
    "df_train = pd.read_csv(\"data/train.csv\")\n",
    "df_test = pd.read_csv(\"data/test.csv\")"
   ]
  },
  {
   "cell_type": "markdown",
   "metadata": {},
   "source": [
    "### 2 Data Preparation"
   ]
  },
  {
   "cell_type": "markdown",
   "metadata": {},
   "source": [
    "#### 2.1 Dataset Split (train - test)\n",
    "As said in Part A, section 3, the train_test_split method does the segmentation at random, even with an extremely unbalanced dataset, the split should occur so that both training and testing have the same proportion of unsatisfied customers.  \n",
    "**However, as it is difficult to guarantee randomness in fact, we can make a stratified split based on the TARGET variable and thus ensure that the proportion is exact in both datasets.**"
   ]
  },
  {
   "cell_type": "code",
   "execution_count": 3,
   "metadata": {},
   "outputs": [
    {
     "data": {
      "text/plain": [
       "((60816, 370), 60816, (15204, 370), 15204)"
      ]
     },
     "execution_count": 3,
     "metadata": {},
     "output_type": "execute_result"
    }
   ],
   "source": [
    "from sklearn.model_selection import train_test_split\n",
    "\n",
    "# Spliting the dataset on a proportion of 80% for train and 20% for test.\n",
    "X_train, X_test, y_train, y_test = train_test_split(df_train.drop('TARGET', axis = 1), df_train.TARGET, \n",
    "                                                    train_size = 0.8, stratify = df_train.TARGET,\n",
    "                                                    random_state = 42)\n",
    "\n",
    "#Checando o resultado do splot\n",
    "X_train.shape, y_train.shape[0], X_test.shape, y_test.shape[0]"
   ]
  },
  {
   "cell_type": "markdown",
   "metadata": {},
   "source": [
    "#### 2.2 Rebuilding the selected dataset\n",
    "Though it is a clustering problem, we could use the selected dataset for classification because it is much smaller than the full datasets, as well as it still robust and useful for clustering.\n",
    "\n",
    "Here we need to: \n",
    "- Remove constant / semi-constat features;\n",
    "- Remove duplicat features;\n",
    "- Selecting only the best 96 features that we found in Part A."
   ]
  },
  {
   "cell_type": "code",
   "execution_count": 4,
   "metadata": {},
   "outputs": [],
   "source": [
    "# Making copys of X_train and X_test to work with in this section\n",
    "X_train_clean = X_train.copy()\n",
    "X_test_clean = X_test.copy()"
   ]
  },
  {
   "cell_type": "markdown",
   "metadata": {},
   "source": [
    "Remove constant and semi-constant features"
   ]
  },
  {
   "cell_type": "code",
   "execution_count": 5,
   "metadata": {},
   "outputs": [],
   "source": [
    "# Investigating if there are constant or semi-constat feature in X_train\n",
    "from sklearn.feature_selection import VarianceThreshold\n",
    "\n",
    "# Removing all features that have variance under 0.01\n",
    "selector = VarianceThreshold(threshold = 0.01)\n",
    "selector.fit(X_train_clean)\n",
    "mask_clean = selector.get_support()\n",
    "X_train_clean = X_train_clean[X_train_clean.columns[mask_clean]]"
   ]
  },
  {
   "cell_type": "markdown",
   "metadata": {},
   "source": [
    "Remove duplicated features"
   ]
  },
  {
   "cell_type": "code",
   "execution_count": 6,
   "metadata": {},
   "outputs": [],
   "source": [
    "# Checking if there is any duplicated column\n",
    "remove = []\n",
    "cols = X_train_clean.columns\n",
    "for i in range(len(cols)-1):\n",
    "    column = X_train_clean[cols[i]].values\n",
    "    for j in range(i+1,len(cols)):\n",
    "        if np.array_equal(column, X_train_clean[cols[j]].values):\n",
    "            remove.append(cols[j])\n",
    "\n",
    "\n",
    "# If yes, than they will be dropped here\n",
    "X_train_clean.drop(remove, axis = 1, inplace=True)"
   ]
  },
  {
   "cell_type": "markdown",
   "metadata": {},
   "source": [
    "Selecting the 96 best features"
   ]
  },
  {
   "cell_type": "code",
   "execution_count": 7,
   "metadata": {},
   "outputs": [],
   "source": [
    "# Selection the 96 best features aconrdingly to f_classif\n",
    "from sklearn.feature_selection import SelectKBest, f_classif, mutual_info_classif\n",
    "\n",
    "selector_fc = SelectKBest(score_func = f_classif, k = 96)\n",
    "selector_fc.fit(X_train_clean, y_train)\n",
    "mask_selected = selector_fc.get_support()\n",
    "\n",
    "# Saving the selected columns in a list\n",
    "selected_col = X_train_clean.columns[mask_selected]"
   ]
  },
  {
   "cell_type": "code",
   "execution_count": 8,
   "metadata": {},
   "outputs": [],
   "source": [
    "# Creating datasets where only with the selected 96 features are included\n",
    "X_train_selected = X_train[selected_col]\n",
    "X_test_selected = X_test[selected_col]"
   ]
  },
  {
   "cell_type": "markdown",
   "metadata": {},
   "source": [
    "#### 2.3 Feature Scaling\n",
    "Because the KMeans algorithm will be used, the difference in scales between the characteristics is a big problem for the model. The algorithm is based on distance calculation and therefore the data must be transformed to a standardized scale."
   ]
  },
  {
   "cell_type": "code",
   "execution_count": 9,
   "metadata": {},
   "outputs": [],
   "source": [
    "from sklearn.cluster import KMeans\n",
    "from sklearn.preprocessing import StandardScaler"
   ]
  },
  {
   "cell_type": "markdown",
   "metadata": {},
   "source": [
    "To scale the features, we will use the Standard Scaling method. The feature will be scaled in the interval -1 and 1."
   ]
  },
  {
   "cell_type": "code",
   "execution_count": 10,
   "metadata": {},
   "outputs": [],
   "source": [
    "# Scaling the features using Standardization\n",
    "scaled_features = StandardScaler().fit_transform(X_train_selected)"
   ]
  },
  {
   "cell_type": "markdown",
   "metadata": {},
   "source": [
    "Now that we have the data ready, we can move forward to the next step."
   ]
  },
  {
   "cell_type": "markdown",
   "metadata": {},
   "source": [
    "### 3 Clusters Number"
   ]
  },
  {
   "cell_type": "markdown",
   "metadata": {},
   "source": [
    "To work with KMeans algorithm, the most important part is to find the right value for K, that is, the number of natural clusters that exists on the data. "
   ]
  },
  {
   "cell_type": "markdown",
   "metadata": {},
   "source": [
    "#### 3.1 Elbow Method\n",
    "To find the quantity of natural groups, that is, the K value, we can use the Ewbow method.\n",
    "\n",
    "The method consists of trying different values for K out and registers the Within Cluster Sum of Squares (WCSS). We will choose the value of K that is in the threshold of a large reduction of the WCSS for K values before it and a small reduction of the WCSS for K values after it. In practice, we want to find out the value of K where the graph literally forms an Elbow.\n",
    "\n",
    "As we should find the 3 groups that have the highest  expected profits per customer, let's start this analysis considering that there are at least 6 clusters on the data."
   ]
  },
  {
   "cell_type": "code",
   "execution_count": 146,
   "metadata": {},
   "outputs": [
    {
     "name": "stdout",
     "output_type": "stream",
     "text": [
      "6 796301.8824651258\n",
      "7 783494.8558173988\n",
      "8 695308.5103273552\n",
      "9 640683.7168424049\n",
      "10 621990.9095867214\n",
      "11 597017.2867978826\n",
      "12 596602.246671681\n",
      "13 576914.3826084826\n",
      "14 553528.1641014704\n",
      "15 534698.321660184\n",
      "16 501375.33716146497\n",
      "17 503007.84483268345\n",
      "18 501003.8345275152\n",
      "19 474077.7137281408\n",
      "20 462097.61550325813\n",
      "21 431099.2915988232\n",
      "22 448080.6663688069\n",
      "23 442496.14892224554\n",
      "24 419602.8784638212\n",
      "25 426512.10790939495\n",
      "26 405158.5808970191\n",
      "27 400141.9105660133\n",
      "28 418290.9624668453\n",
      "29 391894.3418938859\n",
      "30 367982.444243601\n",
      "31 389762.6840380079\n",
      "32 396771.8299579753\n",
      "33 375344.2062524135\n",
      "34 374698.49401560513\n",
      "35 388320.5870030519\n",
      "36 363174.684790794\n",
      "37 372205.88745156495\n",
      "38 364319.1452270452\n",
      "39 339599.48037895956\n",
      "40 379476.3903699342\n",
      "41 350388.7503978911\n",
      "42 340282.7542000913\n",
      "43 342879.51629116916\n",
      "44 348910.6594534445\n",
      "45 352368.7096042317\n",
      "46 349620.94109851215\n",
      "47 330258.63295891916\n",
      "48 338451.6393614388\n",
      "49 331746.8998220919\n"
     ]
    }
   ],
   "source": [
    "# Appling the Elbow Method to find the best K value\n",
    "wcss = []\n",
    " \n",
    "for i in range(6, 50):\n",
    "    kmeans = KMeans(n_clusters = i, init = 'random')\n",
    "    kmeans.fit(scaled_features)\n",
    "    print(i, kmeans.inertia_)\n",
    "    wcss.append(kmeans.inertia_)  "
   ]
  },
  {
   "cell_type": "code",
   "execution_count": 122,
   "metadata": {},
   "outputs": [
    {
     "data": {
      "image/png": "[encoded data removed]",
      "text/plain": [
       "<Figure size 1440x576 with 1 Axes>"
      ]
     },
     "metadata": {
      "needs_background": "light"
     },
     "output_type": "display_data"
    }
   ],
   "source": [
    "# Plotting the Elbow Curve\n",
    "fig, ax = plt.subplots(figsize = (20, 8))\n",
    "plt.plot(range(6, 50), wcss)\n",
    "plt.title('Elbow Curve', fontsize = 18)\n",
    "plt.xlabel('Number of Clusters', fontsize = 16)\n",
    "plt.xticks(np.arange(6, 50, 1))\n",
    "plt.ylabel('Within Cluster Sum of Squares', fontsize = 16) \n",
    "ax.spines['top'].set_visible(False)\n",
    "ax.spines['right'].set_visible(False)\n",
    "plt.show()"
   ]
  },
  {
   "cell_type": "markdown",
   "metadata": {},
   "source": [
    "The weakness of this method is that sometimes there is no evident elbow and we are not able to identify the best value for K. Unfortunately, this was the case this time, there is no evident elbow in the curve above. That means we are not able to determine the best value of K using the Elbow Method. \n",
    "\n",
    "Let's try the Silhouette method out."
   ]
  },
  {
   "cell_type": "markdown",
   "metadata": {},
   "source": [
    "#### 3.2 Silhouette Method\n",
    "The silhouette method computes the silhouette coefficient for all samples. This coefficient is calculated using the mean intra-cluster distance (x) and the mean nearest-cluster distance (y) for each sample. It can be calculated so:\n",
    "\n",
    "**Silhouette Coefficient = (y  -  x)  /  max(x,  y)**\n",
    "\n",
    "Where:\n",
    "- x is the mean intracluster distance: the mean distance between the points of the cluster and its center;\n",
    "- y depicts mean nearest cluster distance i.e. mean distance to the instances of the next closest cluster.\n",
    "\n",
    "The coefficient varies between -1 and 1. A value close to 1 implies that the instance is close to its cluster is a part of the right cluster. Whereas, a value close to -1 means that the value is assigned to the wrong cluster.  \n",
    "\n",
    "For this method, we want to compute the silhouette score for each value of K and pick the highest value."
   ]
  },
  {
   "cell_type": "code",
   "execution_count": 123,
   "metadata": {},
   "outputs": [
    {
     "name": "stdout",
     "output_type": "stream",
     "text": [
      "For K = 6, silhouette score is 0.39170129958169914)\n",
      "For K = 7, silhouette score is 0.41304918803759033)\n",
      "For K = 8, silhouette score is 0.41605867881981073)\n",
      "For K = 9, silhouette score is 0.4179262824794158)\n",
      "For K = 10, silhouette score is 0.4551295851372485)\n",
      "For K = 11, silhouette score is 0.4584958607507717)\n",
      "For K = 12, silhouette score is 0.4594058340111631)\n",
      "For K = 13, silhouette score is 0.4603288397651356)\n",
      "For K = 14, silhouette score is 0.4628869754615942)\n",
      "For K = 15, silhouette score is 0.463278282099908)\n",
      "For K = 16, silhouette score is 0.46278850822396794)\n",
      "For K = 17, silhouette score is 0.4995700060883429)\n",
      "For K = 18, silhouette score is 0.3938562789724567)\n",
      "For K = 19, silhouette score is 0.466648112222931)\n",
      "For K = 20, silhouette score is 0.5026848042765154)\n",
      "For K = 21, silhouette score is 0.5018278696068378)\n",
      "For K = 22, silhouette score is 0.5056714064169838)\n",
      "For K = 23, silhouette score is 0.5063746331313971)\n",
      "For K = 24, silhouette score is 0.5086291015102571)\n",
      "For K = 25, silhouette score is 0.5186710574329028)\n",
      "For K = 26, silhouette score is 0.501965779933892)\n",
      "For K = 27, silhouette score is 0.5063702636695192)\n",
      "For K = 28, silhouette score is 0.5026353218615333)\n",
      "For K = 29, silhouette score is 0.5120518528055085)\n",
      "For K = 30, silhouette score is 0.5063048149970215)\n",
      "For K = 31, silhouette score is 0.5103425861207989)\n",
      "For K = 32, silhouette score is 0.4225424628776046)\n",
      "For K = 33, silhouette score is 0.5105584727518863)\n",
      "For K = 34, silhouette score is 0.5038628841337718)\n",
      "For K = 35, silhouette score is 0.4298405927774778)\n",
      "For K = 36, silhouette score is 0.5163165025282338)\n",
      "For K = 37, silhouette score is 0.4349496995744999)\n",
      "For K = 38, silhouette score is 0.5189142631399972)\n",
      "For K = 39, silhouette score is 0.4468992691387265)\n",
      "For K = 40, silhouette score is 0.4440658486286895)\n",
      "For K = 41, silhouette score is 0.5116504084629078)\n",
      "For K = 42, silhouette score is 0.4401400857729182)\n",
      "For K = 43, silhouette score is 0.4374478049728112)\n",
      "For K = 44, silhouette score is 0.4510825930563585)\n",
      "For K = 45, silhouette score is 0.4479916059353238)\n",
      "For K = 46, silhouette score is 0.4152820072295867)\n",
      "For K = 47, silhouette score is 0.4322468403891236)\n",
      "For K = 48, silhouette score is 0.45261442731349255)\n",
      "For K = 49, silhouette score is 0.453244321167933)\n"
     ]
    }
   ],
   "source": [
    "from sklearn.metrics import silhouette_score\n",
    "\n",
    "coefficients = []\n",
    "\n",
    "for i in range(6, 50):\n",
    "    kmeans = KMeans(n_clusters = i)\n",
    "    kmeans.fit(scaled_features)\n",
    "    score = silhouette_score(scaled_features, kmeans.labels_)\n",
    "    coefficients.append(score)\n",
    "    \n",
    "    print(\"For K = {}, silhouette score is {})\".format(i, score))"
   ]
  },
  {
   "cell_type": "code",
   "execution_count": 124,
   "metadata": {
    "scrolled": false
   },
   "outputs": [
    {
     "data": {
      "image/png": "[encoded data removed]",
      "text/plain": [
       "<Figure size 1440x576 with 1 Axes>"
      ]
     },
     "metadata": {
      "needs_background": "light"
     },
     "output_type": "display_data"
    }
   ],
   "source": [
    "# Plotting the Elbow Curve\n",
    "fig, ax = plt.subplots(figsize = (20, 8))\n",
    "plt.plot(range(6, 50), coefficients)\n",
    "plt.title('Silhouette Score for different values of K', fontsize = 18)\n",
    "plt.xlabel('Value of K', fontsize = 16)\n",
    "plt.xticks(np.arange(6, 50, 1))\n",
    "plt.ylabel('Score', fontsize = 16) \n",
    "ax.spines['top'].set_visible(False)\n",
    "ax.spines['right'].set_visible(False)\n",
    "plt.show()"
   ]
  },
  {
   "cell_type": "markdown",
   "metadata": {},
   "source": [
    "As we can see from the graph, the highest coefficient value (0.5186710574329028) is when K = 25. Since it is the highest score for K, we know that there are 25 natural clusters in this data and can now move forward to the next step."
   ]
  },
  {
   "cell_type": "markdown",
   "metadata": {},
   "source": [
    "### 4 Results Analysis"
   ]
  },
  {
   "cell_type": "markdown",
   "metadata": {},
   "source": [
    "Once defined that there should be 25 clusters, the 3 groups that generate the highest profit per customer are those that have the greatest proportion of unsatisfied customers so that the retention program is applied to a greater number of truly dissatisfied customers and generates profit."
   ]
  },
  {
   "cell_type": "code",
   "execution_count": 11,
   "metadata": {},
   "outputs": [],
   "source": [
    "# Creating and training the KMeans model\n",
    "kmeans = KMeans(n_clusters = 25).fit(scaled_features)"
   ]
  },
  {
   "cell_type": "code",
   "execution_count": 12,
   "metadata": {},
   "outputs": [
    {
     "data": {
      "text/plain": [
       "array([11, 21,  0, ..., 16, 11,  0], dtype=int32)"
      ]
     },
     "execution_count": 12,
     "metadata": {},
     "output_type": "execute_result"
    }
   ],
   "source": [
    "# Checking the labels\n",
    "kmeans.labels_"
   ]
  },
  {
   "cell_type": "markdown",
   "metadata": {},
   "source": [
    "Now that we have a trained model and labels for our train data, let's create a dataframe only with the Target and the Label columns to analyse the results in a clearer way."
   ]
  },
  {
   "cell_type": "code",
   "execution_count": 13,
   "metadata": {},
   "outputs": [],
   "source": [
    "# Creating a Data DataFramer result analysis\n",
    "result_train = pd.DataFrame({'target': y_train, 'labels': kmeans.labels_})"
   ]
  },
  {
   "cell_type": "code",
   "execution_count": 14,
   "metadata": {
    "scrolled": true
   },
   "outputs": [
    {
     "data": {
      "text/html": [
       "<div>\n",
       "<style scoped>\n",
       "    .dataframe tbody tr th:only-of-type {\n",
       "        vertical-align: middle;\n",
       "    }\n",
       "\n",
       "    .dataframe tbody tr th {\n",
       "        vertical-align: top;\n",
       "    }\n",
       "\n",
       "    .dataframe thead th {\n",
       "        text-align: right;\n",
       "    }\n",
       "</style>\n",
       "<table border=\"1\" class=\"dataframe\">\n",
       "  <thead>\n",
       "    <tr style=\"text-align: right;\">\n",
       "      <th></th>\n",
       "      <th>target</th>\n",
       "      <th>labels</th>\n",
       "    </tr>\n",
       "  </thead>\n",
       "  <tbody>\n",
       "    <tr>\n",
       "      <th>56035</th>\n",
       "      <td>0</td>\n",
       "      <td>11</td>\n",
       "    </tr>\n",
       "    <tr>\n",
       "      <th>15449</th>\n",
       "      <td>0</td>\n",
       "      <td>21</td>\n",
       "    </tr>\n",
       "    <tr>\n",
       "      <th>68443</th>\n",
       "      <td>0</td>\n",
       "      <td>0</td>\n",
       "    </tr>\n",
       "    <tr>\n",
       "      <th>50258</th>\n",
       "      <td>0</td>\n",
       "      <td>11</td>\n",
       "    </tr>\n",
       "    <tr>\n",
       "      <th>4858</th>\n",
       "      <td>0</td>\n",
       "      <td>0</td>\n",
       "    </tr>\n",
       "  </tbody>\n",
       "</table>\n",
       "</div>"
      ],
      "text/plain": [
       "       target  labels\n",
       "56035       0      11\n",
       "15449       0      21\n",
       "68443       0       0\n",
       "50258       0      11\n",
       "4858        0       0"
      ]
     },
     "execution_count": 14,
     "metadata": {},
     "output_type": "execute_result"
    }
   ],
   "source": [
    "result_train.head()"
   ]
  },
  {
   "cell_type": "markdown",
   "metadata": {},
   "source": [
    "As mentioned before, the 3 groups that have the highest expected profit are those who have the biggest number of unsatisfied customers because we could apply the retention program and have a profit of $90 for each unsatisfied customer. So let's filter the data to have only unsatisfied customers and its labels in the dataframe."
   ]
  },
  {
   "cell_type": "code",
   "execution_count": 15,
   "metadata": {},
   "outputs": [],
   "source": [
    "# Get the distribution only for unsatisfied customer\n",
    "unsatisfied_dist = result_train[result_train['target'] == 1].labels.value_counts().sort_index()"
   ]
  },
  {
   "cell_type": "markdown",
   "metadata": {},
   "source": [
    "And finally, we can plot the distribution of unsatisfied customers over the clusters and find the 3 ones with the highest values."
   ]
  },
  {
   "cell_type": "code",
   "execution_count": 24,
   "metadata": {
    "scrolled": false
   },
   "outputs": [
    {
     "data": {
      "image/png": "[encoded data removed]",
      "text/plain": [
       "<Figure size 1440x576 with 1 Axes>"
      ]
     },
     "metadata": {
      "needs_background": "light"
     },
     "output_type": "display_data"
    }
   ],
   "source": [
    "# Plotting the unsatified customers ditribution for the clusters\n",
    "fig, ax = plt.subplots(figsize = (20, 8))\n",
    "plt.bar(unsatisfied_dist.index + 1, unsatisfied_dist.values);\n",
    "plt.title('Unsatisfied customer amount for each cluster', fontsize = 18);\n",
    "plt.xlabel('Cluster', fontsize = 16);\n",
    "plt.ylabel('Amount', fontsize = 16)\n",
    "plt.xticks(range(1, 26, 1))\n",
    "\n",
    "ax.spines['top'].set_visible(False)\n",
    "ax.spines['right'].set_visible(False)\n",
    "ax.spines['left'].set_visible(False)"
   ]
  },
  {
   "cell_type": "markdown",
   "metadata": {},
   "source": [
    "By analysing the above graph, we can conclude that the clusters 1, 4 and 10 have clearly the biggest numbers of unsatisfied customers. \n",
    "\n",
    "**This analysis was made on the train split part, but we can also cluster the test split part (X_test) and check if the results match as a way of double-checking when working on data that has never seen before.**\n",
    "\n",
    "This analysis was made on the train split part, but we can also cluster the test split part (X_test) and check if the results match as a way of double-checking when working on data that has never seen before."
   ]
  },
  {
   "cell_type": "code",
   "execution_count": 17,
   "metadata": {},
   "outputs": [],
   "source": [
    "scaled_features = StandardScaler().fit_transform(X_test_selected)\n",
    "result_test = pd.DataFrame({'target': y_test, 'labels': kmeans.predict(scaled_features)})"
   ]
  },
  {
   "cell_type": "code",
   "execution_count": 18,
   "metadata": {
    "scrolled": true
   },
   "outputs": [
    {
     "data": {
      "text/html": [
       "<div>\n",
       "<style scoped>\n",
       "    .dataframe tbody tr th:only-of-type {\n",
       "        vertical-align: middle;\n",
       "    }\n",
       "\n",
       "    .dataframe tbody tr th {\n",
       "        vertical-align: top;\n",
       "    }\n",
       "\n",
       "    .dataframe thead th {\n",
       "        text-align: right;\n",
       "    }\n",
       "</style>\n",
       "<table border=\"1\" class=\"dataframe\">\n",
       "  <thead>\n",
       "    <tr style=\"text-align: right;\">\n",
       "      <th></th>\n",
       "      <th>target</th>\n",
       "      <th>labels</th>\n",
       "    </tr>\n",
       "  </thead>\n",
       "  <tbody>\n",
       "    <tr>\n",
       "      <th>63089</th>\n",
       "      <td>0</td>\n",
       "      <td>3</td>\n",
       "    </tr>\n",
       "    <tr>\n",
       "      <th>27056</th>\n",
       "      <td>0</td>\n",
       "      <td>0</td>\n",
       "    </tr>\n",
       "    <tr>\n",
       "      <th>5923</th>\n",
       "      <td>0</td>\n",
       "      <td>0</td>\n",
       "    </tr>\n",
       "    <tr>\n",
       "      <th>4865</th>\n",
       "      <td>0</td>\n",
       "      <td>0</td>\n",
       "    </tr>\n",
       "    <tr>\n",
       "      <th>6344</th>\n",
       "      <td>0</td>\n",
       "      <td>11</td>\n",
       "    </tr>\n",
       "  </tbody>\n",
       "</table>\n",
       "</div>"
      ],
      "text/plain": [
       "       target  labels\n",
       "63089       0       3\n",
       "27056       0       0\n",
       "5923        0       0\n",
       "4865        0       0\n",
       "6344        0      11"
      ]
     },
     "execution_count": 18,
     "metadata": {},
     "output_type": "execute_result"
    }
   ],
   "source": [
    "result_test.head()"
   ]
  },
  {
   "cell_type": "markdown",
   "metadata": {},
   "source": [
    "Now let's get the distribution of unsatisfied customers over the clusters for the test split data (unknown data)."
   ]
  },
  {
   "cell_type": "code",
   "execution_count": 19,
   "metadata": {},
   "outputs": [],
   "source": [
    "# Get the distribution only for unsatisfied customer on X_test_selected\n",
    "unsatisfied_dist_test = result_test[result_test['target'] == 1].labels.value_counts().sort_index()"
   ]
  },
  {
   "cell_type": "code",
   "execution_count": 25,
   "metadata": {},
   "outputs": [
    {
     "data": {
      "image/png": "[encoded data removed]",
      "text/plain": [
       "<Figure size 1440x576 with 1 Axes>"
      ]
     },
     "metadata": {
      "needs_background": "light"
     },
     "output_type": "display_data"
    }
   ],
   "source": [
    "# Plotting the unsatified customers ditribution for the clusters\n",
    "fig, ax = plt.subplots(figsize = (20, 8))\n",
    "plt.bar(unsatisfied_dist_test.index + 1, unsatisfied_dist_test.values);\n",
    "plt.title('Unsatisfied customer amount for each cluster', fontsize = 18);\n",
    "plt.xlabel('Cluster', fontsize = 16);\n",
    "plt.ylabel('Amount', fontsize = 16)\n",
    "plt.xticks(range(1, 26, 1))\n",
    "\n",
    "ax.spines['top'].set_visible(False)\n",
    "ax.spines['right'].set_visible(False)\n",
    "ax.spines['left'].set_visible(False)"
   ]
  },
  {
   "cell_type": "markdown",
   "metadata": {},
   "source": [
    "As expected, the clusters 1, 4 and 10 have the most part of unsatisfied customers. It is a clear evidence that our model performs well for new instances!\n",
    "\n",
    "**So this is the end of the Case Problem made together with Santander. We have optimized models for Classification, for NPS and Clustering the unsatisfied customers and in possession of all those resources we can maximize the profit as well as get a deeper understanding of the level of satisfaction of each customer!**"
   ]
  },
  {
   "cell_type": "markdown",
   "metadata": {},
   "source": [
    "### 5 Next steps\n",
    "\n",
    "For further iterations on this project in order to improve the analysis and the results, I would suggest 3 main points:\n",
    "- As Caio Martins (https://github.com/CaioMar/) did and suggested me, a nice improvement would be to create a function that calculates the total profit. It is possible once we have values for TP and FP. So we could precise the amount of money we will spare by using this NPS system as a double-check method for applying the retention program.\n",
    "- Another improvement is to try out other cluster algorithms like Agglomerative Hierarchical Clustering."
   ]
  },
  {
   "cell_type": "markdown",
   "metadata": {},
   "source": [
    "### 6 References\n",
    "[1] Banerjee. Prashant, Comprehensive Guide on Feature Selection., https://www.kaggle.com/prashant111/comprehensive-guide-on-feature-selection  \n",
    "[2] D. Beniaguev., Advanced Feature Exploration. https://www.kaggle.com/selfishgene/advanced-feature-exploration  \n",
    "[3] M. Filho., A forma mais simples de selecionar as melhores variáveis usando Scikit-learn. https://www.youtube.com/watch?v=Bcn5e7LYMhg&t=2027s  \n",
    "[4] M. Filho., Como Remover Variáveis Irrelevantes de um Modelo de Machine Learning, https://www.youtube.com/watch?v=6-mKATDSQmk&t=1454s  \n",
    "[5] M. Filho., Como Tunar Hiperparâmetros de Machine Learning Sem Perder Tempo, https://www.youtube.com/watch?v=WhnkeasZNHI  \n",
    "[6] G. Caponetto., Random Search vs Grid Search for hyperparameter optimization, https://towardsdatascience.com/random-search-vs-grid-search-for-hyperparameter-optimization-345e1422899d  \n",
    "[7] A. JAIN., Complete Guide to Parameter Tuning in XGBoost with codes in Python, https://www.analyticsvidhya.com/blog/2016/03/complete-guide-parameter-tuning-xgboost-with-codes-python/ \n",
    "[8] How to plot ROC curve in Python, https://stackoverflow.com/questions/25009284/how-to-plot-roc-curve-in-python  \n",
    "[9] F. Santana., Algoritmo K-means: Aprenda essa Técnica Essêncial através de Exemplos Passo a Passo com Python, https://minerandodados.com.br/algoritmo-k-means-python-passo-passo/  \n",
    "[10] A. Géron., Hands-On Machine Learning with Scikit-Learn, Keras, and TensorFlow: Concepts, Tools, and Techniques to Build Intelligent Systems, Alta Books, Rio de Janeiro, 2019, 516 p.  \n",
    "[11] W. McKinney., Python for data analysis, Novatec Editora Ltda, São Paulo, 2019, 613 p.  "
   ]
  },
  {
   "cell_type": "code",
   "execution_count": null,
   "metadata": {},
   "outputs": [],
   "source": []
  }
 ],
 "metadata": {
  "kernelspec": {
   "display_name": "Python 3",
   "language": "python",
   "name": "python3"
  },
  "language_info": {
   "codemirror_mode": {
    "name": "ipython",
    "version": 3
   },
   "file_extension": ".py",
   "mimetype": "text/x-python",
   "name": "python",
   "nbconvert_exporter": "python",
   "pygments_lexer": "ipython3",
   "version": "3.7.6"
  }
 },
 "nbformat": 4,
 "nbformat_minor": 4
}
