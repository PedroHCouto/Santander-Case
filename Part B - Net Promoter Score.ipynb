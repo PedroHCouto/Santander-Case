{
 "cells": [
  {
   "cell_type": "markdown",
   "metadata": {},
   "source": [
    "# SANTANDER CASE - Data Scientist \n",
    "\n",
    "## b) Net Promoter Score (NPS)\n",
    "\n",
    "In this task we need to give a rate from 1 to 5 for each customer of the test base respecting the 'TARGET' feature, that is, their level of satisfaction. The following points will guide de score system:\n",
    "- 1 being the most dissatisfied and 5 the most satisfied; \n",
    "- The retention program should only be applied to customers we NPS. \n",
    "\n",
    "### In order to solve this problem, we are going to do the following steps:\n",
    "- 1 Loading Data and Packeges;\n",
    "- 2 The Classification Model;\n",
    "    - 2.1 Method;\n",
    "    - 2.2 Dataset Split (train - test)\n",
    "    - 2.3 Rebuilding the selected dataset;\n",
    "    - 2.4 Retraining the model;\n",
    "- 3 Strategie & Method;\n",
    "    - 3.1 Threshold selection;\n",
    "    - 3.2 Function to label the NPS; \n",
    "- 4 Results Analysis;\n",
    "    - 4.1 Results on X_test (known data)\n",
    "    - 4.2 Results on df_test (unknown data)\n",
    "- 5 Next steps;\n",
    "- 6 References;"
   ]
  },
  {
   "cell_type": "markdown",
   "metadata": {},
   "source": [
    "### 1 Loadgin Data and Packeges"
   ]
  },
  {
   "cell_type": "code",
   "execution_count": 1,
   "metadata": {},
   "outputs": [],
   "source": [
    "# Loading packages\n",
    "import pandas as pd\n",
    "import numpy as np\n",
    "import matplotlib.pyplot as plt\n",
    "import seaborn as sns\n",
    "import time\n",
    "\n",
    "%matplotlib inline"
   ]
  },
  {
   "cell_type": "code",
   "execution_count": 2,
   "metadata": {},
   "outputs": [],
   "source": [
    "# Loading the Train and Test datasets\n",
    "df_train = pd.read_csv(\"data/train.csv\")\n",
    "df_test = pd.read_csv(\"data/test.csv\")"
   ]
  },
  {
   "cell_type": "markdown",
   "metadata": {},
   "source": [
    "### 2 The Classification Model"
   ]
  },
  {
   "cell_type": "markdown",
   "metadata": {},
   "source": [
    "#### 2.1 Method\n",
    "Knowing the satisfaction score, allow us to take the results that maximize the profits as well as to understand the behaviour and satisfaction of each customer.\n",
    "\n",
    "The classification model, that we build in Part A, has also the option to output the probability of the customer be unsatisfied.  \n",
    "  \n",
    "By using this type of output, we can then create 5 intervals, one for each level of satisfaction. The customer will receive a satisfaction label accordingly the interval which the outputted probability fit.\n",
    "\n",
    "So let's first rebuild the model of Part A."
   ]
  },
  {
   "cell_type": "markdown",
   "metadata": {},
   "source": [
    "#### 2.2 Dataset Split (train - test)\n",
    "As said in Part A, section 3, the train_test_split method does the segmentation at random, even with an extremely unbalanced dataset, the split should occur so that both training and testing have the same proportion of unsatisfied customers.  \n",
    "**However, as it is difficult to guarantee randomness in fact, we can make a stratified split based on the TARGET variable and thus ensure that the proportion is exact in both datasets.**"
   ]
  },
  {
   "cell_type": "code",
   "execution_count": 3,
   "metadata": {},
   "outputs": [
    {
     "data": {
      "text/plain": [
       "((60816, 370), 60816, (15204, 370), 15204)"
      ]
     },
     "execution_count": 3,
     "metadata": {},
     "output_type": "execute_result"
    }
   ],
   "source": [
    "from sklearn.model_selection import train_test_split\n",
    "\n",
    "# Spliting the dataset on a proportion of 80% for train and 20% for test.\n",
    "X_train, X_test, y_train, y_test = train_test_split(df_train.drop('TARGET', axis = 1), df_train.TARGET, \n",
    "                                                    train_size = 0.8, stratify = df_train.TARGET,\n",
    "                                                    random_state = 42)\n",
    "\n",
    "#Checando o resultado do splot\n",
    "X_train.shape, y_train.shape[0], X_test.shape, y_test.shape[0]"
   ]
  },
  {
   "cell_type": "markdown",
   "metadata": {},
   "source": [
    "#### 2.3 Rebuilding the selected dataset\n",
    "Here we need to: \n",
    "- Remove constant / semi-constat features;\n",
    "- Remove duplicate features;\n",
    "- Selecting only the best 96 features that we found in Part-A."
   ]
  },
  {
   "cell_type": "code",
   "execution_count": 4,
   "metadata": {},
   "outputs": [],
   "source": [
    "# Making copys of X_train and X_test to work with in this section\n",
    "X_train_clean = X_train.copy()\n",
    "X_test_clean = X_test.copy()"
   ]
  },
  {
   "cell_type": "markdown",
   "metadata": {},
   "source": [
    "Remove constant and semi-constant features."
   ]
  },
  {
   "cell_type": "code",
   "execution_count": 5,
   "metadata": {},
   "outputs": [],
   "source": [
    "# Investigating if there are constant or semi-constat feature in X_train\n",
    "from sklearn.feature_selection import VarianceThreshold\n",
    "\n",
    "# Removing all features that have variance under 0.01\n",
    "selector = VarianceThreshold(threshold = 0.01)\n",
    "selector.fit(X_train_clean)\n",
    "mask_clean = selector.get_support()\n",
    "X_train_clean = X_train_clean[X_train_clean.columns[mask_clean]]"
   ]
  },
  {
   "cell_type": "markdown",
   "metadata": {},
   "source": [
    "Remove duplicate features."
   ]
  },
  {
   "cell_type": "code",
   "execution_count": 6,
   "metadata": {},
   "outputs": [],
   "source": [
    "# Checking if there is any duplicated column\n",
    "remove = []\n",
    "cols = X_train_clean.columns\n",
    "for i in range(len(cols)-1):\n",
    "    column = X_train_clean[cols[i]].values\n",
    "    for j in range(i+1,len(cols)):\n",
    "        if np.array_equal(column, X_train_clean[cols[j]].values):\n",
    "            remove.append(cols[j])\n",
    "\n",
    "\n",
    "# If yes, than they will be dropped here\n",
    "X_train_clean.drop(remove, axis = 1, inplace=True)"
   ]
  },
  {
   "cell_type": "markdown",
   "metadata": {},
   "source": [
    "Selecting the 96 best features."
   ]
  },
  {
   "cell_type": "code",
   "execution_count": 7,
   "metadata": {},
   "outputs": [],
   "source": [
    "# Selection the 96 best features aconrdingly to f_classif\n",
    "from sklearn.feature_selection import SelectKBest, f_classif, mutual_info_classif\n",
    "\n",
    "selector_fc = SelectKBest(score_func = f_classif, k = 96)\n",
    "selector_fc.fit(X_train_clean, y_train)\n",
    "mask_selected = selector_fc.get_support()\n",
    "\n",
    "# Saving the selected columns in a list\n",
    "selected_col = X_train_clean.columns[mask_selected]"
   ]
  },
  {
   "cell_type": "code",
   "execution_count": 62,
   "metadata": {},
   "outputs": [],
   "source": [
    "# Creating datasets where only with the selected 96 features are included\n",
    "X_train_selected = X_train[selected_col]\n",
    "X_test_selected = X_test[selected_col]"
   ]
  },
  {
   "cell_type": "markdown",
   "metadata": {},
   "source": [
    "Now let's check the result."
   ]
  },
  {
   "cell_type": "code",
   "execution_count": 9,
   "metadata": {},
   "outputs": [
    {
     "data": {
      "text/html": [
       "<div>\n",
       "<style scoped>\n",
       "    .dataframe tbody tr th:only-of-type {\n",
       "        vertical-align: middle;\n",
       "    }\n",
       "\n",
       "    .dataframe tbody tr th {\n",
       "        vertical-align: top;\n",
       "    }\n",
       "\n",
       "    .dataframe thead th {\n",
       "        text-align: right;\n",
       "    }\n",
       "</style>\n",
       "<table border=\"1\" class=\"dataframe\">\n",
       "  <thead>\n",
       "    <tr style=\"text-align: right;\">\n",
       "      <th></th>\n",
       "      <th>var15</th>\n",
       "      <th>imp_op_var40_efect_ult1</th>\n",
       "      <th>imp_op_var40_efect_ult3</th>\n",
       "      <th>imp_op_var41_efect_ult1</th>\n",
       "      <th>imp_op_var41_efect_ult3</th>\n",
       "      <th>imp_op_var41_ult1</th>\n",
       "      <th>imp_op_var39_efect_ult1</th>\n",
       "      <th>imp_op_var39_efect_ult3</th>\n",
       "      <th>imp_op_var39_ult1</th>\n",
       "      <th>ind_var5_0</th>\n",
       "      <th>...</th>\n",
       "      <th>saldo_medio_var5_ult1</th>\n",
       "      <th>saldo_medio_var5_ult3</th>\n",
       "      <th>saldo_medio_var12_hace2</th>\n",
       "      <th>saldo_medio_var12_ult1</th>\n",
       "      <th>saldo_medio_var12_ult3</th>\n",
       "      <th>saldo_medio_var13_corto_hace2</th>\n",
       "      <th>saldo_medio_var13_corto_hace3</th>\n",
       "      <th>saldo_medio_var13_corto_ult1</th>\n",
       "      <th>saldo_medio_var13_corto_ult3</th>\n",
       "      <th>var38</th>\n",
       "    </tr>\n",
       "  </thead>\n",
       "  <tbody>\n",
       "    <tr>\n",
       "      <th>56035</th>\n",
       "      <td>22</td>\n",
       "      <td>0.0</td>\n",
       "      <td>0.0</td>\n",
       "      <td>0.0</td>\n",
       "      <td>0.0</td>\n",
       "      <td>0.0</td>\n",
       "      <td>0.0</td>\n",
       "      <td>0.0</td>\n",
       "      <td>0.0</td>\n",
       "      <td>1</td>\n",
       "      <td>...</td>\n",
       "      <td>3.0</td>\n",
       "      <td>2.52</td>\n",
       "      <td>0.00</td>\n",
       "      <td>0.0</td>\n",
       "      <td>0.00</td>\n",
       "      <td>0.0</td>\n",
       "      <td>0.0</td>\n",
       "      <td>0.0</td>\n",
       "      <td>0.0</td>\n",
       "      <td>117310.979016</td>\n",
       "    </tr>\n",
       "    <tr>\n",
       "      <th>15449</th>\n",
       "      <td>79</td>\n",
       "      <td>0.0</td>\n",
       "      <td>0.0</td>\n",
       "      <td>0.0</td>\n",
       "      <td>0.0</td>\n",
       "      <td>0.0</td>\n",
       "      <td>0.0</td>\n",
       "      <td>0.0</td>\n",
       "      <td>0.0</td>\n",
       "      <td>1</td>\n",
       "      <td>...</td>\n",
       "      <td>30.0</td>\n",
       "      <td>4990.50</td>\n",
       "      <td>25741.95</td>\n",
       "      <td>42034.5</td>\n",
       "      <td>33888.24</td>\n",
       "      <td>0.0</td>\n",
       "      <td>0.0</td>\n",
       "      <td>0.0</td>\n",
       "      <td>0.0</td>\n",
       "      <td>68480.010000</td>\n",
       "    </tr>\n",
       "    <tr>\n",
       "      <th>68443</th>\n",
       "      <td>29</td>\n",
       "      <td>0.0</td>\n",
       "      <td>0.0</td>\n",
       "      <td>0.0</td>\n",
       "      <td>0.0</td>\n",
       "      <td>0.0</td>\n",
       "      <td>0.0</td>\n",
       "      <td>0.0</td>\n",
       "      <td>0.0</td>\n",
       "      <td>1</td>\n",
       "      <td>...</td>\n",
       "      <td>3.0</td>\n",
       "      <td>2.49</td>\n",
       "      <td>0.00</td>\n",
       "      <td>0.0</td>\n",
       "      <td>0.00</td>\n",
       "      <td>0.0</td>\n",
       "      <td>0.0</td>\n",
       "      <td>0.0</td>\n",
       "      <td>0.0</td>\n",
       "      <td>57517.740000</td>\n",
       "    </tr>\n",
       "    <tr>\n",
       "      <th>50258</th>\n",
       "      <td>29</td>\n",
       "      <td>0.0</td>\n",
       "      <td>0.0</td>\n",
       "      <td>0.0</td>\n",
       "      <td>0.0</td>\n",
       "      <td>0.0</td>\n",
       "      <td>0.0</td>\n",
       "      <td>0.0</td>\n",
       "      <td>0.0</td>\n",
       "      <td>1</td>\n",
       "      <td>...</td>\n",
       "      <td>3.0</td>\n",
       "      <td>2.64</td>\n",
       "      <td>0.00</td>\n",
       "      <td>0.0</td>\n",
       "      <td>0.00</td>\n",
       "      <td>0.0</td>\n",
       "      <td>0.0</td>\n",
       "      <td>0.0</td>\n",
       "      <td>0.0</td>\n",
       "      <td>60060.930000</td>\n",
       "    </tr>\n",
       "    <tr>\n",
       "      <th>4858</th>\n",
       "      <td>25</td>\n",
       "      <td>0.0</td>\n",
       "      <td>0.0</td>\n",
       "      <td>0.0</td>\n",
       "      <td>0.0</td>\n",
       "      <td>0.0</td>\n",
       "      <td>0.0</td>\n",
       "      <td>0.0</td>\n",
       "      <td>0.0</td>\n",
       "      <td>1</td>\n",
       "      <td>...</td>\n",
       "      <td>3.0</td>\n",
       "      <td>2.85</td>\n",
       "      <td>0.00</td>\n",
       "      <td>0.0</td>\n",
       "      <td>0.00</td>\n",
       "      <td>0.0</td>\n",
       "      <td>0.0</td>\n",
       "      <td>0.0</td>\n",
       "      <td>0.0</td>\n",
       "      <td>84028.740000</td>\n",
       "    </tr>\n",
       "  </tbody>\n",
       "</table>\n",
       "<p>5 rows × 96 columns</p>\n",
       "</div>"
      ],
      "text/plain": [
       "       var15  imp_op_var40_efect_ult1  imp_op_var40_efect_ult3  \\\n",
       "56035     22                      0.0                      0.0   \n",
       "15449     79                      0.0                      0.0   \n",
       "68443     29                      0.0                      0.0   \n",
       "50258     29                      0.0                      0.0   \n",
       "4858      25                      0.0                      0.0   \n",
       "\n",
       "       imp_op_var41_efect_ult1  imp_op_var41_efect_ult3  imp_op_var41_ult1  \\\n",
       "56035                      0.0                      0.0                0.0   \n",
       "15449                      0.0                      0.0                0.0   \n",
       "68443                      0.0                      0.0                0.0   \n",
       "50258                      0.0                      0.0                0.0   \n",
       "4858                       0.0                      0.0                0.0   \n",
       "\n",
       "       imp_op_var39_efect_ult1  imp_op_var39_efect_ult3  imp_op_var39_ult1  \\\n",
       "56035                      0.0                      0.0                0.0   \n",
       "15449                      0.0                      0.0                0.0   \n",
       "68443                      0.0                      0.0                0.0   \n",
       "50258                      0.0                      0.0                0.0   \n",
       "4858                       0.0                      0.0                0.0   \n",
       "\n",
       "       ind_var5_0  ...  saldo_medio_var5_ult1  saldo_medio_var5_ult3  \\\n",
       "56035           1  ...                    3.0                   2.52   \n",
       "15449           1  ...                   30.0                4990.50   \n",
       "68443           1  ...                    3.0                   2.49   \n",
       "50258           1  ...                    3.0                   2.64   \n",
       "4858            1  ...                    3.0                   2.85   \n",
       "\n",
       "       saldo_medio_var12_hace2  saldo_medio_var12_ult1  \\\n",
       "56035                     0.00                     0.0   \n",
       "15449                 25741.95                 42034.5   \n",
       "68443                     0.00                     0.0   \n",
       "50258                     0.00                     0.0   \n",
       "4858                      0.00                     0.0   \n",
       "\n",
       "       saldo_medio_var12_ult3  saldo_medio_var13_corto_hace2  \\\n",
       "56035                    0.00                            0.0   \n",
       "15449                33888.24                            0.0   \n",
       "68443                    0.00                            0.0   \n",
       "50258                    0.00                            0.0   \n",
       "4858                     0.00                            0.0   \n",
       "\n",
       "       saldo_medio_var13_corto_hace3  saldo_medio_var13_corto_ult1  \\\n",
       "56035                            0.0                           0.0   \n",
       "15449                            0.0                           0.0   \n",
       "68443                            0.0                           0.0   \n",
       "50258                            0.0                           0.0   \n",
       "4858                             0.0                           0.0   \n",
       "\n",
       "       saldo_medio_var13_corto_ult3          var38  \n",
       "56035                           0.0  117310.979016  \n",
       "15449                           0.0   68480.010000  \n",
       "68443                           0.0   57517.740000  \n",
       "50258                           0.0   60060.930000  \n",
       "4858                            0.0   84028.740000  \n",
       "\n",
       "[5 rows x 96 columns]"
      ]
     },
     "execution_count": 9,
     "metadata": {},
     "output_type": "execute_result"
    }
   ],
   "source": [
    "X_train_selected.head()"
   ]
  },
  {
   "cell_type": "code",
   "execution_count": 10,
   "metadata": {
    "scrolled": true
   },
   "outputs": [
    {
     "name": "stdout",
     "output_type": "stream",
     "text": [
      "<class 'pandas.core.frame.DataFrame'>\n",
      "Int64Index: 60816 entries, 56035 to 22022\n",
      "Data columns (total 96 columns):\n",
      " #   Column                         Non-Null Count  Dtype  \n",
      "---  ------                         --------------  -----  \n",
      " 0   var15                          60816 non-null  int64  \n",
      " 1   imp_op_var40_efect_ult1        60816 non-null  float64\n",
      " 2   imp_op_var40_efect_ult3        60816 non-null  float64\n",
      " 3   imp_op_var41_efect_ult1        60816 non-null  float64\n",
      " 4   imp_op_var41_efect_ult3        60816 non-null  float64\n",
      " 5   imp_op_var41_ult1              60816 non-null  float64\n",
      " 6   imp_op_var39_efect_ult1        60816 non-null  float64\n",
      " 7   imp_op_var39_efect_ult3        60816 non-null  float64\n",
      " 8   imp_op_var39_ult1              60816 non-null  float64\n",
      " 9   ind_var5_0                     60816 non-null  int64  \n",
      " 10  ind_var5                       60816 non-null  int64  \n",
      " 11  ind_var8_0                     60816 non-null  int64  \n",
      " 12  ind_var8                       60816 non-null  int64  \n",
      " 13  ind_var12_0                    60816 non-null  int64  \n",
      " 14  ind_var12                      60816 non-null  int64  \n",
      " 15  ind_var13_0                    60816 non-null  int64  \n",
      " 16  ind_var13_corto_0              60816 non-null  int64  \n",
      " 17  ind_var13_corto                60816 non-null  int64  \n",
      " 18  ind_var13_largo_0              60816 non-null  int64  \n",
      " 19  ind_var13_largo                60816 non-null  int64  \n",
      " 20  ind_var13                      60816 non-null  int64  \n",
      " 21  ind_var14_0                    60816 non-null  int64  \n",
      " 22  ind_var24_0                    60816 non-null  int64  \n",
      " 23  ind_var24                      60816 non-null  int64  \n",
      " 24  ind_var25_cte                  60816 non-null  int64  \n",
      " 25  ind_var26_0                    60816 non-null  int64  \n",
      " 26  ind_var26_cte                  60816 non-null  int64  \n",
      " 27  ind_var25_0                    60816 non-null  int64  \n",
      " 28  ind_var30                      60816 non-null  int64  \n",
      " 29  ind_var39_0                    60816 non-null  int64  \n",
      " 30  ind_var41_0                    60816 non-null  int64  \n",
      " 31  num_var4                       60816 non-null  int64  \n",
      " 32  num_var5_0                     60816 non-null  int64  \n",
      " 33  num_var5                       60816 non-null  int64  \n",
      " 34  num_var8_0                     60816 non-null  int64  \n",
      " 35  num_var8                       60816 non-null  int64  \n",
      " 36  num_var12_0                    60816 non-null  int64  \n",
      " 37  num_var12                      60816 non-null  int64  \n",
      " 38  num_var13_0                    60816 non-null  int64  \n",
      " 39  num_var13_corto_0              60816 non-null  int64  \n",
      " 40  num_var13_corto                60816 non-null  int64  \n",
      " 41  num_var13_largo_0              60816 non-null  int64  \n",
      " 42  num_var13_largo                60816 non-null  int64  \n",
      " 43  num_var13                      60816 non-null  int64  \n",
      " 44  num_var24_0                    60816 non-null  int64  \n",
      " 45  num_var24                      60816 non-null  int64  \n",
      " 46  num_var26_0                    60816 non-null  int64  \n",
      " 47  num_var25_0                    60816 non-null  int64  \n",
      " 48  num_op_var39_ult1              60816 non-null  int64  \n",
      " 49  num_var30_0                    60816 non-null  int64  \n",
      " 50  num_var30                      60816 non-null  int64  \n",
      " 51  num_var35                      60816 non-null  int64  \n",
      " 52  num_var39_0                    60816 non-null  int64  \n",
      " 53  num_var41_0                    60816 non-null  int64  \n",
      " 54  num_var42_0                    60816 non-null  int64  \n",
      " 55  num_var42                      60816 non-null  int64  \n",
      " 56  saldo_var5                     60816 non-null  float64\n",
      " 57  saldo_var12                    60816 non-null  float64\n",
      " 58  saldo_var13_corto              60816 non-null  float64\n",
      " 59  saldo_var13_largo              60816 non-null  float64\n",
      " 60  saldo_var13                    60816 non-null  float64\n",
      " 61  saldo_var24                    60816 non-null  float64\n",
      " 62  saldo_var30                    60816 non-null  float64\n",
      " 63  saldo_var42                    60816 non-null  float64\n",
      " 64  var36                          60816 non-null  int64  \n",
      " 65  imp_aport_var13_hace3          60816 non-null  float64\n",
      " 66  ind_var43_recib_ult1           60816 non-null  int64  \n",
      " 67  num_aport_var13_hace3          60816 non-null  int64  \n",
      " 68  num_var22_ult1                 60816 non-null  int64  \n",
      " 69  num_var22_ult3                 60816 non-null  int64  \n",
      " 70  num_med_var22_ult3             60816 non-null  int64  \n",
      " 71  num_meses_var5_ult3            60816 non-null  int64  \n",
      " 72  num_meses_var8_ult3            60816 non-null  int64  \n",
      " 73  num_meses_var12_ult3           60816 non-null  int64  \n",
      " 74  num_meses_var13_corto_ult3     60816 non-null  int64  \n",
      " 75  num_meses_var13_largo_ult3     60816 non-null  int64  \n",
      " 76  num_op_var40_efect_ult1        60816 non-null  int64  \n",
      " 77  num_op_var40_efect_ult3        60816 non-null  int64  \n",
      " 78  num_op_var41_efect_ult1        60816 non-null  int64  \n",
      " 79  num_op_var41_efect_ult3        60816 non-null  int64  \n",
      " 80  num_op_var39_efect_ult1        60816 non-null  int64  \n",
      " 81  num_op_var39_efect_ult3        60816 non-null  int64  \n",
      " 82  num_reemb_var17_ult1           60816 non-null  int64  \n",
      " 83  num_var43_recib_ult1           60816 non-null  int64  \n",
      " 84  saldo_medio_var5_hace2         60816 non-null  float64\n",
      " 85  saldo_medio_var5_hace3         60816 non-null  float64\n",
      " 86  saldo_medio_var5_ult1          60816 non-null  float64\n",
      " 87  saldo_medio_var5_ult3          60816 non-null  float64\n",
      " 88  saldo_medio_var12_hace2        60816 non-null  float64\n",
      " 89  saldo_medio_var12_ult1         60816 non-null  float64\n",
      " 90  saldo_medio_var12_ult3         60816 non-null  float64\n",
      " 91  saldo_medio_var13_corto_hace2  60816 non-null  float64\n",
      " 92  saldo_medio_var13_corto_hace3  60816 non-null  float64\n",
      " 93  saldo_medio_var13_corto_ult1   60816 non-null  float64\n",
      " 94  saldo_medio_var13_corto_ult3   60816 non-null  float64\n",
      " 95  var38                          60816 non-null  float64\n",
      "dtypes: float64(29), int64(67)\n",
      "memory usage: 45.0 MB\n"
     ]
    }
   ],
   "source": [
    "X_train_selected.info()"
   ]
  },
  {
   "cell_type": "markdown",
   "metadata": {},
   "source": [
    "Seams that the process to rebuild the selected dataset was successfully done.  \n",
    "\n",
    "Now we can move forward."
   ]
  },
  {
   "cell_type": "markdown",
   "metadata": {},
   "source": [
    "#### 2.4 Retraining the model\n",
    "In this step we just need to use the optimized hyperparameter in order to train the XGBClassifier."
   ]
  },
  {
   "cell_type": "code",
   "execution_count": 11,
   "metadata": {},
   "outputs": [],
   "source": [
    "# Importing libraris\n",
    "from sklearn.metrics import roc_auc_score as auc\n",
    "import xgboost as xgb"
   ]
  },
  {
   "cell_type": "markdown",
   "metadata": {},
   "source": [
    "Let's recap the best hyperparameters:\n",
    "- learning rate: 0.007961566078062952;\n",
    "- n_estimators: 1397;\n",
    "- max_depth: 4;\n",
    "- min_child_weight: 5.711008778424264;\n",
    "- gamma: 0.2816441089227697;\n",
    "- subsample: 0.692708251269958;\n",
    "- colsample_bytree: 0.5079831261101071."
   ]
  },
  {
   "cell_type": "code",
   "execution_count": 12,
   "metadata": {},
   "outputs": [],
   "source": [
    "# Generating the model with the optimized hyperparameters\n",
    "clf_optimized = xgb.XGBClassifier(learning_rate = 0.007961566078062952, n_estimators = 1397, \n",
    "                                  max_depth = 4, min_child_weight = 5.711008778424264, \n",
    "                                  gamma = 0.2816441089227697, subsample = 0.692708251269958, \n",
    "                                  colsample_bytree = 0.5079831261101071, seed = 42)"
   ]
  },
  {
   "cell_type": "code",
   "execution_count": 13,
   "metadata": {},
   "outputs": [
    {
     "data": {
      "text/plain": [
       "XGBClassifier(base_score=0.5, booster='gbtree', colsample_bylevel=1,\n",
       "              colsample_bynode=1, colsample_bytree=0.5079831261101071,\n",
       "              gamma=0.2816441089227697, gpu_id=-1, importance_type='gain',\n",
       "              interaction_constraints='', learning_rate=0.007961566078062952,\n",
       "              max_delta_step=0, max_depth=4, min_child_weight=5.711008778424264,\n",
       "              missing=nan, monotone_constraints='()', n_estimators=1397,\n",
       "              n_jobs=0, num_parallel_tree=1, objective='binary:logistic',\n",
       "              random_state=42, reg_alpha=0, reg_lambda=1, scale_pos_weight=1,\n",
       "              seed=42, subsample=0.692708251269958, tree_method='exact',\n",
       "              validate_parameters=1, verbosity=None)"
      ]
     },
     "execution_count": 13,
     "metadata": {},
     "output_type": "execute_result"
    }
   ],
   "source": [
    "# Fitting the model to the X_train_selected dataset\n",
    "clf_optimized.fit(X_train_selected, y_train)"
   ]
  },
  {
   "cell_type": "code",
   "execution_count": 14,
   "metadata": {},
   "outputs": [
    {
     "data": {
      "text/plain": [
       "0.847702790451952"
      ]
     },
     "execution_count": 14,
     "metadata": {},
     "output_type": "execute_result"
    }
   ],
   "source": [
    "# Evaluating the performance of the model in the test data (which have not been used so far).\n",
    "y_predicted = clf_optimized.predict_proba(X_test_selected)[:,1]\n",
    "auc(y_test, y_predicted)"
   ]
  },
  {
   "cell_type": "markdown",
   "metadata": {},
   "source": [
    "**As in Part A the model scored an AUC of 0.8477.**"
   ]
  },
  {
   "cell_type": "markdown",
   "metadata": {},
   "source": [
    "Now let's check how is the output of the classifier model in probability format."
   ]
  },
  {
   "cell_type": "code",
   "execution_count": 15,
   "metadata": {},
   "outputs": [
    {
     "data": {
      "text/plain": [
       "array([0.01826211, 0.03021165, 0.00381383, ..., 0.03343312, 0.02100796,\n",
       "       0.02775403], dtype=float32)"
      ]
     },
     "execution_count": 15,
     "metadata": {},
     "output_type": "execute_result"
    }
   ],
   "source": [
    "# checking the output in probability format\n",
    "clf_optimized.predict_proba(X_test_selected)[:,1]"
   ]
  },
  {
   "cell_type": "markdown",
   "metadata": {},
   "source": [
    "As we can see, the output is an array each probability is a number between 0 and 1.  \n",
    "\n",
    "Now that we have the model and its output in the way we need to creat the NPS system, let's move forward."
   ]
  },
  {
   "cell_type": "markdown",
   "metadata": {},
   "source": [
    "### 3 Strategie & Method"
   ]
  },
  {
   "cell_type": "markdown",
   "metadata": {},
   "source": [
    "#### 3.1 Threshold selection\n",
    "As mention above, now that we have the output in probability format, the question is how we will define the 5 intervals.  \n",
    "\n",
    "Let us first take a look at the distribution of the probability of the test split!"
   ]
  },
  {
   "cell_type": "code",
   "execution_count": 28,
   "metadata": {},
   "outputs": [
    {
     "data": {
      "image/png": "[encoded data removed]",
      "text/plain": [
       "<Figure size 1296x576 with 1 Axes>"
      ]
     },
     "metadata": {
      "needs_background": "light"
     },
     "output_type": "display_data"
    }
   ],
   "source": [
    "fig, ax = plt.subplots(figsize = (18, 8))\n",
    "ax.hist(clf_optimized.predict_proba(X_test_selected)[:,1], bins = 20);\n",
    "ax.set_xlim(0, 1);\n",
    "plt.xticks(np.arange(0, 1, 0.1))\n",
    "plt.title('Probability distribution for unsatisfied classification', fontsize=18);\n",
    "plt.ylabel('Frequency', fontsize=16);\n",
    "plt.xlabel('Probability', fontsize=16);\n",
    "ax.spines['top'].set_visible(False)\n",
    "ax.spines['right'].set_visible(False)"
   ]
  },
  {
   "cell_type": "markdown",
   "metadata": {},
   "source": [
    "As we can see above, the probabilities are in most part less than 0,1. This behaviour meets our expectations because just about 4,11% of the customers are unsatisfied."
   ]
  },
  {
   "cell_type": "markdown",
   "metadata": {},
   "source": [
    "We can now choose the threshold, where:\n",
    "- If probability output < threshold ---> SATISFIED CUSTOMER\n",
    "- If probability output > threshold ---> UNSATISFIED CUSTOMER\n",
    "\n",
    "So let's plot the ROC curve in order to choose the best threshold."
   ]
  },
  {
   "cell_type": "code",
   "execution_count": 50,
   "metadata": {},
   "outputs": [
    {
     "data": {
      "image/png": "[encoded data removed]",
      "text/plain": [
       "<Figure size 1440x576 with 1 Axes>"
      ]
     },
     "metadata": {
      "needs_background": "light"
     },
     "output_type": "display_data"
    }
   ],
   "source": [
    "# Code base on this post: https://stackoverflow.com/questions/25009284/how-to-plot-roc-curve-in-python\n",
    "import sklearn.metrics as metrics\n",
    "\n",
    "# Calculate FPR and TPR for all thresholds\n",
    "fpr, tpr, threshold = metrics.roc_curve(y_test, y_predicted)\n",
    "roc_auc = metrics.auc(fpr, tpr)\n",
    "\n",
    "# Plotting the ROC curve\n",
    "import matplotlib.pyplot as plt\n",
    "fig, ax = plt.subplots(figsize = (20, 8))\n",
    "plt.title('Receiver Operating Characteristic', fontsize=18)\n",
    "plt.plot(fpr, tpr, 'b', label = 'AUC = %0.4f' % roc_auc)\n",
    "ax.spines['top'].set_visible(False)\n",
    "ax.spines['right'].set_visible(False)\n",
    "plt.legend(loc = 'upper left', fontsize = 16, frameon = False)\n",
    "plt.plot([0, 1], [0, 1], color = 'grey', linestyle = '--')\n",
    "plt.xlim([0, 1])\n",
    "plt.ylim([0, 1])\n",
    "plt.ylabel('True Positive Rate', fontsize = 16)\n",
    "plt.xlabel('False Positive Rate', fontsize = 16)\n",
    "\n",
    "ax.plot([0.12, 0.12], [0, 0.61], color='green', linestyle='dashed', label='FPR = 0.12')\n",
    "ax.plot([0, 0.12], [0.61, 0.61], color='green', linestyle='dashed', label='FPR = 0.12')\n",
    "plt.text(0.13, 0.59, 'FPR = 0.12 | TPR = 0.61', fontsize = 12, color = 'green')\n",
    "\n",
    "plt.show()"
   ]
  },
  {
   "cell_type": "markdown",
   "metadata": {},
   "source": [
    "As known, the best threshold is giving by the point that is closer to the upper left corner of the ROC curve graph.  \n",
    "\n",
    "Marked in green on the graph, is the point that generates the best threshold for the model. So let's work with FPR of 0.12 and get its threshold."
   ]
  },
  {
   "cell_type": "code",
   "execution_count": 51,
   "metadata": {},
   "outputs": [
    {
     "data": {
      "text/plain": [
       "0.09166643"
      ]
     },
     "execution_count": 51,
     "metadata": {},
     "output_type": "execute_result"
    }
   ],
   "source": [
    "# Finding the threshold value for FPR = 0,12.\n",
    "threshold[np.where(np.around(fpr, decimals = 2) == 0.12)[0][0]]"
   ]
  },
  {
   "cell_type": "markdown",
   "metadata": {},
   "source": [
    "**Now we can define that every customer, that if the output probability is equal or greater than 0.09166643 is unsatisfied and will receive label 1 in our NPS system.**\n",
    "\n",
    "If the outputted probability is less than 0.09166643, then the customer is satisfied.\n",
    "\n",
    "We want now label satisfied customers. They can receive label 2, 3, 4 and 5, where 5 means most satisfied. To label the customers we will split the interval from 0 to 0.09166643 in 4 subintervals."
   ]
  },
  {
   "cell_type": "code",
   "execution_count": 57,
   "metadata": {},
   "outputs": [],
   "source": [
    "# Defining the subintervals\n",
    "increment = threshold[np.where(np.around(fpr, decimals = 2) == 0.12)[0][0]] / 4\n",
    "label_5_lower = 1 * increment\n",
    "label_4_lower = 2 * increment\n",
    "label_3_lower = 3 * increment\n",
    "label_2_lower = 4 * increment"
   ]
  },
  {
   "cell_type": "code",
   "execution_count": 58,
   "metadata": {},
   "outputs": [
    {
     "name": "stdout",
     "output_type": "stream",
     "text": [
      "0 to 0.022916607558727264 - label 5\n",
      "0.022916607558727264 to 0.04583321511745453 - label 4\n",
      "0.04583321511745453 to 0.0687498226761818 - label 3\n",
      "0.0687498226761818 to 0.09166643023490906 - label 2\n"
     ]
    }
   ],
   "source": [
    "# Printing the intervals\n",
    "print('0 to {} - label 5'.format(label_5_lower))\n",
    "print('{} to {} - label 4'.format(label_5_lower, label_4_lower))\n",
    "print('{} to {} - label 3'.format(label_4_lower, label_3_lower))\n",
    "print('{} to {} - label 2'.format(label_3_lower, label_2_lower))"
   ]
  },
  {
   "cell_type": "markdown",
   "metadata": {},
   "source": [
    "Now that we defined the subintervals for labelling the satisfied customers and the interval for labelling the unsatisfied customer, we can develop a function that will label just one customer or even the entire dataset."
   ]
  },
  {
   "cell_type": "markdown",
   "metadata": {},
   "source": [
    "#### 3.2 Function to label the NPS"
   ]
  },
  {
   "cell_type": "code",
   "execution_count": 100,
   "metadata": {},
   "outputs": [],
   "source": [
    "def NPS(df, predicted_probabilities):\n",
    "    \"\"\"Label the customers as their satisfaction level by fitting to an invervalthe outputted probability \n",
    "    of the customer be unsatisfied (Target = 1).\n",
    "    \n",
    "    Parameters:\n",
    "    df é a instancia unitária que deve receber a label ou um dataframe inteiro.\n",
    "    predict_probabilities é o elemento unico ou a array de probabilidades gerado pelo modelo.\n",
    "    \n",
    "    df can be only one instance or an entire dataframe to be labeled.\n",
    "    predicted_probabilities is an element or an entire array with all the probabilites geterated by the model\n",
    "    for this instance or dataset.\n",
    "    \n",
    "    Return:\n",
    "    return the inputed instance or dataframe with the label column appended, which contains the NPS for\n",
    "    each customer.\n",
    "    \"\"\"\n",
    "    \n",
    "    label_list = []\n",
    "    for i in range(0, len(predicted_probabilities)):\n",
    "        \n",
    "        if predicted_probabilities[i] >= label_2_lower:\n",
    "            label_list.append(1)\n",
    "        elif label_3_lower <= predicted_probabilities[i] < label_2_lower:\n",
    "            label_list.append(2)\n",
    "        elif note_4_lower <= predicted_probabilities[i] < label_3_lower:\n",
    "            label_list.append(3)\n",
    "        elif label_5_lower <= predicted_probabilities[i] < label_4_lower:\n",
    "            label_list.append(4)\n",
    "        elif 0 <= predicted_probabilities[i] < label_5_lower:\n",
    "            label_list.append(5)\n",
    "            \n",
    "    \n",
    "    df['NPS'] = label_list\n",
    "    return df"
   ]
  },
  {
   "cell_type": "markdown",
   "metadata": {},
   "source": [
    "### 4 Results Analysis;\n",
    "With the function of the customer labelling task ready, we can test it in the X_test_selected dataset created in section 2."
   ]
  },
  {
   "cell_type": "markdown",
   "metadata": {},
   "source": [
    "#### 4.1 Results on X_test (known  Target)\n",
    "It is important to start the analysis in this part because this dataset has the Target features. That means we are testing, first, on data that we know and can, therefore, give us the opportunity to evaluate and understand the NPS system developed."
   ]
  },
  {
   "cell_type": "code",
   "execution_count": 87,
   "metadata": {},
   "outputs": [],
   "source": [
    "# Re-adding the target feature to the test dataset\n",
    "X_test['target'] = y_test"
   ]
  },
  {
   "cell_type": "code",
   "execution_count": 117,
   "metadata": {},
   "outputs": [],
   "source": [
    "# Predicting the probabilities for the X_test_selected dataframe\n",
    "y_predicted_prob = clf_optimized.predict_proba(X_test_selected)[:,1]"
   ]
  },
  {
   "cell_type": "markdown",
   "metadata": {},
   "source": [
    "We now have the test dataset with the target column re-added, in order to control how many unsatisfied customers receive NPS 1 (a high rate is desired),  as well as an array with the probabilities of all customer from the test dataset to input the NPS function. We can finally label all the customers."
   ]
  },
  {
   "cell_type": "code",
   "execution_count": 118,
   "metadata": {},
   "outputs": [
    {
     "data": {
      "text/html": [
       "<div>\n",
       "<style scoped>\n",
       "    .dataframe tbody tr th:only-of-type {\n",
       "        vertical-align: middle;\n",
       "    }\n",
       "\n",
       "    .dataframe tbody tr th {\n",
       "        vertical-align: top;\n",
       "    }\n",
       "\n",
       "    .dataframe thead th {\n",
       "        text-align: right;\n",
       "    }\n",
       "</style>\n",
       "<table border=\"1\" class=\"dataframe\">\n",
       "  <thead>\n",
       "    <tr style=\"text-align: right;\">\n",
       "      <th></th>\n",
       "      <th>ID</th>\n",
       "      <th>var3</th>\n",
       "      <th>var15</th>\n",
       "      <th>imp_ent_var16_ult1</th>\n",
       "      <th>imp_op_var39_comer_ult1</th>\n",
       "      <th>imp_op_var39_comer_ult3</th>\n",
       "      <th>imp_op_var40_comer_ult1</th>\n",
       "      <th>imp_op_var40_comer_ult3</th>\n",
       "      <th>imp_op_var40_efect_ult1</th>\n",
       "      <th>imp_op_var40_efect_ult3</th>\n",
       "      <th>...</th>\n",
       "      <th>saldo_medio_var33_hace3</th>\n",
       "      <th>saldo_medio_var33_ult1</th>\n",
       "      <th>saldo_medio_var33_ult3</th>\n",
       "      <th>saldo_medio_var44_hace2</th>\n",
       "      <th>saldo_medio_var44_hace3</th>\n",
       "      <th>saldo_medio_var44_ult1</th>\n",
       "      <th>saldo_medio_var44_ult3</th>\n",
       "      <th>var38</th>\n",
       "      <th>target</th>\n",
       "      <th>NPS</th>\n",
       "    </tr>\n",
       "  </thead>\n",
       "  <tbody>\n",
       "    <tr>\n",
       "      <th>63089</th>\n",
       "      <td>125987</td>\n",
       "      <td>2</td>\n",
       "      <td>23</td>\n",
       "      <td>0.0</td>\n",
       "      <td>0.0</td>\n",
       "      <td>0.0</td>\n",
       "      <td>0.0</td>\n",
       "      <td>0.0</td>\n",
       "      <td>0.0</td>\n",
       "      <td>0.0</td>\n",
       "      <td>...</td>\n",
       "      <td>0.0</td>\n",
       "      <td>0.0</td>\n",
       "      <td>0.0</td>\n",
       "      <td>0.0</td>\n",
       "      <td>0.0</td>\n",
       "      <td>0.0</td>\n",
       "      <td>0.0</td>\n",
       "      <td>117310.979016</td>\n",
       "      <td>0</td>\n",
       "      <td>5</td>\n",
       "    </tr>\n",
       "    <tr>\n",
       "      <th>27056</th>\n",
       "      <td>54150</td>\n",
       "      <td>2</td>\n",
       "      <td>28</td>\n",
       "      <td>0.0</td>\n",
       "      <td>0.0</td>\n",
       "      <td>0.0</td>\n",
       "      <td>0.0</td>\n",
       "      <td>0.0</td>\n",
       "      <td>0.0</td>\n",
       "      <td>0.0</td>\n",
       "      <td>...</td>\n",
       "      <td>0.0</td>\n",
       "      <td>0.0</td>\n",
       "      <td>0.0</td>\n",
       "      <td>0.0</td>\n",
       "      <td>0.0</td>\n",
       "      <td>0.0</td>\n",
       "      <td>0.0</td>\n",
       "      <td>72380.010000</td>\n",
       "      <td>0</td>\n",
       "      <td>4</td>\n",
       "    </tr>\n",
       "    <tr>\n",
       "      <th>5923</th>\n",
       "      <td>11883</td>\n",
       "      <td>2</td>\n",
       "      <td>24</td>\n",
       "      <td>0.0</td>\n",
       "      <td>0.0</td>\n",
       "      <td>0.0</td>\n",
       "      <td>0.0</td>\n",
       "      <td>0.0</td>\n",
       "      <td>0.0</td>\n",
       "      <td>0.0</td>\n",
       "      <td>...</td>\n",
       "      <td>0.0</td>\n",
       "      <td>0.0</td>\n",
       "      <td>0.0</td>\n",
       "      <td>0.0</td>\n",
       "      <td>0.0</td>\n",
       "      <td>0.0</td>\n",
       "      <td>0.0</td>\n",
       "      <td>121334.280000</td>\n",
       "      <td>0</td>\n",
       "      <td>5</td>\n",
       "    </tr>\n",
       "    <tr>\n",
       "      <th>4865</th>\n",
       "      <td>9733</td>\n",
       "      <td>2</td>\n",
       "      <td>24</td>\n",
       "      <td>0.0</td>\n",
       "      <td>0.0</td>\n",
       "      <td>0.0</td>\n",
       "      <td>0.0</td>\n",
       "      <td>0.0</td>\n",
       "      <td>0.0</td>\n",
       "      <td>0.0</td>\n",
       "      <td>...</td>\n",
       "      <td>0.0</td>\n",
       "      <td>0.0</td>\n",
       "      <td>0.0</td>\n",
       "      <td>0.0</td>\n",
       "      <td>0.0</td>\n",
       "      <td>0.0</td>\n",
       "      <td>0.0</td>\n",
       "      <td>114830.010000</td>\n",
       "      <td>0</td>\n",
       "      <td>5</td>\n",
       "    </tr>\n",
       "    <tr>\n",
       "      <th>6344</th>\n",
       "      <td>12745</td>\n",
       "      <td>2</td>\n",
       "      <td>23</td>\n",
       "      <td>0.0</td>\n",
       "      <td>0.0</td>\n",
       "      <td>0.0</td>\n",
       "      <td>0.0</td>\n",
       "      <td>0.0</td>\n",
       "      <td>0.0</td>\n",
       "      <td>0.0</td>\n",
       "      <td>...</td>\n",
       "      <td>0.0</td>\n",
       "      <td>0.0</td>\n",
       "      <td>0.0</td>\n",
       "      <td>0.0</td>\n",
       "      <td>0.0</td>\n",
       "      <td>0.0</td>\n",
       "      <td>0.0</td>\n",
       "      <td>82863.900000</td>\n",
       "      <td>0</td>\n",
       "      <td>5</td>\n",
       "    </tr>\n",
       "    <tr>\n",
       "      <th>...</th>\n",
       "      <td>...</td>\n",
       "      <td>...</td>\n",
       "      <td>...</td>\n",
       "      <td>...</td>\n",
       "      <td>...</td>\n",
       "      <td>...</td>\n",
       "      <td>...</td>\n",
       "      <td>...</td>\n",
       "      <td>...</td>\n",
       "      <td>...</td>\n",
       "      <td>...</td>\n",
       "      <td>...</td>\n",
       "      <td>...</td>\n",
       "      <td>...</td>\n",
       "      <td>...</td>\n",
       "      <td>...</td>\n",
       "      <td>...</td>\n",
       "      <td>...</td>\n",
       "      <td>...</td>\n",
       "      <td>...</td>\n",
       "      <td>...</td>\n",
       "    </tr>\n",
       "    <tr>\n",
       "      <th>72653</th>\n",
       "      <td>145076</td>\n",
       "      <td>2</td>\n",
       "      <td>23</td>\n",
       "      <td>0.0</td>\n",
       "      <td>0.0</td>\n",
       "      <td>0.0</td>\n",
       "      <td>0.0</td>\n",
       "      <td>0.0</td>\n",
       "      <td>0.0</td>\n",
       "      <td>0.0</td>\n",
       "      <td>...</td>\n",
       "      <td>0.0</td>\n",
       "      <td>0.0</td>\n",
       "      <td>0.0</td>\n",
       "      <td>0.0</td>\n",
       "      <td>0.0</td>\n",
       "      <td>0.0</td>\n",
       "      <td>0.0</td>\n",
       "      <td>55667.400000</td>\n",
       "      <td>0</td>\n",
       "      <td>5</td>\n",
       "    </tr>\n",
       "    <tr>\n",
       "      <th>4470</th>\n",
       "      <td>8976</td>\n",
       "      <td>2</td>\n",
       "      <td>35</td>\n",
       "      <td>0.0</td>\n",
       "      <td>0.0</td>\n",
       "      <td>0.0</td>\n",
       "      <td>0.0</td>\n",
       "      <td>0.0</td>\n",
       "      <td>0.0</td>\n",
       "      <td>0.0</td>\n",
       "      <td>...</td>\n",
       "      <td>0.0</td>\n",
       "      <td>0.0</td>\n",
       "      <td>0.0</td>\n",
       "      <td>0.0</td>\n",
       "      <td>0.0</td>\n",
       "      <td>0.0</td>\n",
       "      <td>0.0</td>\n",
       "      <td>117310.979016</td>\n",
       "      <td>0</td>\n",
       "      <td>1</td>\n",
       "    </tr>\n",
       "    <tr>\n",
       "      <th>61915</th>\n",
       "      <td>123578</td>\n",
       "      <td>2</td>\n",
       "      <td>25</td>\n",
       "      <td>0.0</td>\n",
       "      <td>0.0</td>\n",
       "      <td>0.0</td>\n",
       "      <td>0.0</td>\n",
       "      <td>0.0</td>\n",
       "      <td>0.0</td>\n",
       "      <td>0.0</td>\n",
       "      <td>...</td>\n",
       "      <td>0.0</td>\n",
       "      <td>0.0</td>\n",
       "      <td>0.0</td>\n",
       "      <td>0.0</td>\n",
       "      <td>0.0</td>\n",
       "      <td>0.0</td>\n",
       "      <td>0.0</td>\n",
       "      <td>72733.590000</td>\n",
       "      <td>0</td>\n",
       "      <td>4</td>\n",
       "    </tr>\n",
       "    <tr>\n",
       "      <th>60032</th>\n",
       "      <td>119823</td>\n",
       "      <td>2</td>\n",
       "      <td>24</td>\n",
       "      <td>0.0</td>\n",
       "      <td>0.0</td>\n",
       "      <td>0.0</td>\n",
       "      <td>0.0</td>\n",
       "      <td>0.0</td>\n",
       "      <td>0.0</td>\n",
       "      <td>0.0</td>\n",
       "      <td>...</td>\n",
       "      <td>0.0</td>\n",
       "      <td>0.0</td>\n",
       "      <td>0.0</td>\n",
       "      <td>0.0</td>\n",
       "      <td>0.0</td>\n",
       "      <td>0.0</td>\n",
       "      <td>0.0</td>\n",
       "      <td>115950.060000</td>\n",
       "      <td>0</td>\n",
       "      <td>5</td>\n",
       "    </tr>\n",
       "    <tr>\n",
       "      <th>61542</th>\n",
       "      <td>122835</td>\n",
       "      <td>2</td>\n",
       "      <td>28</td>\n",
       "      <td>0.0</td>\n",
       "      <td>0.0</td>\n",
       "      <td>0.0</td>\n",
       "      <td>0.0</td>\n",
       "      <td>0.0</td>\n",
       "      <td>0.0</td>\n",
       "      <td>0.0</td>\n",
       "      <td>...</td>\n",
       "      <td>0.0</td>\n",
       "      <td>0.0</td>\n",
       "      <td>0.0</td>\n",
       "      <td>0.0</td>\n",
       "      <td>0.0</td>\n",
       "      <td>0.0</td>\n",
       "      <td>0.0</td>\n",
       "      <td>47610.720000</td>\n",
       "      <td>0</td>\n",
       "      <td>4</td>\n",
       "    </tr>\n",
       "  </tbody>\n",
       "</table>\n",
       "<p>15204 rows × 372 columns</p>\n",
       "</div>"
      ],
      "text/plain": [
       "           ID  var3  var15  imp_ent_var16_ult1  imp_op_var39_comer_ult1  \\\n",
       "63089  125987     2     23                 0.0                      0.0   \n",
       "27056   54150     2     28                 0.0                      0.0   \n",
       "5923    11883     2     24                 0.0                      0.0   \n",
       "4865     9733     2     24                 0.0                      0.0   \n",
       "6344    12745     2     23                 0.0                      0.0   \n",
       "...       ...   ...    ...                 ...                      ...   \n",
       "72653  145076     2     23                 0.0                      0.0   \n",
       "4470     8976     2     35                 0.0                      0.0   \n",
       "61915  123578     2     25                 0.0                      0.0   \n",
       "60032  119823     2     24                 0.0                      0.0   \n",
       "61542  122835     2     28                 0.0                      0.0   \n",
       "\n",
       "       imp_op_var39_comer_ult3  imp_op_var40_comer_ult1  \\\n",
       "63089                      0.0                      0.0   \n",
       "27056                      0.0                      0.0   \n",
       "5923                       0.0                      0.0   \n",
       "4865                       0.0                      0.0   \n",
       "6344                       0.0                      0.0   \n",
       "...                        ...                      ...   \n",
       "72653                      0.0                      0.0   \n",
       "4470                       0.0                      0.0   \n",
       "61915                      0.0                      0.0   \n",
       "60032                      0.0                      0.0   \n",
       "61542                      0.0                      0.0   \n",
       "\n",
       "       imp_op_var40_comer_ult3  imp_op_var40_efect_ult1  \\\n",
       "63089                      0.0                      0.0   \n",
       "27056                      0.0                      0.0   \n",
       "5923                       0.0                      0.0   \n",
       "4865                       0.0                      0.0   \n",
       "6344                       0.0                      0.0   \n",
       "...                        ...                      ...   \n",
       "72653                      0.0                      0.0   \n",
       "4470                       0.0                      0.0   \n",
       "61915                      0.0                      0.0   \n",
       "60032                      0.0                      0.0   \n",
       "61542                      0.0                      0.0   \n",
       "\n",
       "       imp_op_var40_efect_ult3  ...  saldo_medio_var33_hace3  \\\n",
       "63089                      0.0  ...                      0.0   \n",
       "27056                      0.0  ...                      0.0   \n",
       "5923                       0.0  ...                      0.0   \n",
       "4865                       0.0  ...                      0.0   \n",
       "6344                       0.0  ...                      0.0   \n",
       "...                        ...  ...                      ...   \n",
       "72653                      0.0  ...                      0.0   \n",
       "4470                       0.0  ...                      0.0   \n",
       "61915                      0.0  ...                      0.0   \n",
       "60032                      0.0  ...                      0.0   \n",
       "61542                      0.0  ...                      0.0   \n",
       "\n",
       "       saldo_medio_var33_ult1  saldo_medio_var33_ult3  \\\n",
       "63089                     0.0                     0.0   \n",
       "27056                     0.0                     0.0   \n",
       "5923                      0.0                     0.0   \n",
       "4865                      0.0                     0.0   \n",
       "6344                      0.0                     0.0   \n",
       "...                       ...                     ...   \n",
       "72653                     0.0                     0.0   \n",
       "4470                      0.0                     0.0   \n",
       "61915                     0.0                     0.0   \n",
       "60032                     0.0                     0.0   \n",
       "61542                     0.0                     0.0   \n",
       "\n",
       "       saldo_medio_var44_hace2  saldo_medio_var44_hace3  \\\n",
       "63089                      0.0                      0.0   \n",
       "27056                      0.0                      0.0   \n",
       "5923                       0.0                      0.0   \n",
       "4865                       0.0                      0.0   \n",
       "6344                       0.0                      0.0   \n",
       "...                        ...                      ...   \n",
       "72653                      0.0                      0.0   \n",
       "4470                       0.0                      0.0   \n",
       "61915                      0.0                      0.0   \n",
       "60032                      0.0                      0.0   \n",
       "61542                      0.0                      0.0   \n",
       "\n",
       "       saldo_medio_var44_ult1  saldo_medio_var44_ult3          var38  target  \\\n",
       "63089                     0.0                     0.0  117310.979016       0   \n",
       "27056                     0.0                     0.0   72380.010000       0   \n",
       "5923                      0.0                     0.0  121334.280000       0   \n",
       "4865                      0.0                     0.0  114830.010000       0   \n",
       "6344                      0.0                     0.0   82863.900000       0   \n",
       "...                       ...                     ...            ...     ...   \n",
       "72653                     0.0                     0.0   55667.400000       0   \n",
       "4470                      0.0                     0.0  117310.979016       0   \n",
       "61915                     0.0                     0.0   72733.590000       0   \n",
       "60032                     0.0                     0.0  115950.060000       0   \n",
       "61542                     0.0                     0.0   47610.720000       0   \n",
       "\n",
       "       NPS  \n",
       "63089    5  \n",
       "27056    4  \n",
       "5923     5  \n",
       "4865     5  \n",
       "6344     5  \n",
       "...    ...  \n",
       "72653    5  \n",
       "4470     1  \n",
       "61915    4  \n",
       "60032    5  \n",
       "61542    4  \n",
       "\n",
       "[15204 rows x 372 columns]"
      ]
     },
     "execution_count": 118,
     "metadata": {},
     "output_type": "execute_result"
    }
   ],
   "source": [
    "NPS(X_test, y_predicted_prob)"
   ]
  },
  {
   "cell_type": "markdown",
   "metadata": {},
   "source": [
    "Finally, it is possible to compare how the customer's NPS labelling performance was since the target values are known. So the more customers receive  NPS of 1, for data where target = 1, the better the model's performance."
   ]
  },
  {
   "cell_type": "code",
   "execution_count": 119,
   "metadata": {
    "scrolled": true
   },
   "outputs": [
    {
     "data": {
      "text/plain": [
       "1    357\n",
       "4     79\n",
       "5     75\n",
       "3     50\n",
       "2     41\n",
       "Name: NPS, dtype: int64"
      ]
     },
     "execution_count": 119,
     "metadata": {},
     "output_type": "execute_result"
    }
   ],
   "source": [
    "# Checking the NPS distribution for unsatisfied customers.\n",
    "X_test[X_test['target'] == 1].NPS.value_counts()"
   ]
  },
  {
   "cell_type": "code",
   "execution_count": 120,
   "metadata": {},
   "outputs": [
    {
     "data": {
      "text/plain": [
       "602"
      ]
     },
     "execution_count": 120,
     "metadata": {},
     "output_type": "execute_result"
    }
   ],
   "source": [
    "# Number of unsatisfied customers\n",
    "X_test.target.sum()"
   ]
  },
  {
   "cell_type": "code",
   "execution_count": 121,
   "metadata": {},
   "outputs": [
    {
     "data": {
      "text/plain": [
       "59.30232558139535"
      ]
     },
     "execution_count": 121,
     "metadata": {},
     "output_type": "execute_result"
    }
   ],
   "source": [
    "# Proportion of unsatisfied customer that were labeled with NPS 1.\n",
    "(357 / 602) * 100"
   ]
  },
  {
   "cell_type": "markdown",
   "metadata": {},
   "source": [
    "It can be seen that of a total of 602 unsatisfied customers, 357 received NPS equal to 1. This means that approximately 59.3% of dissatisfied customers received NPS 1.  \n",
    "\n",
    "Although not all unsatisfied customers receive  NPS of 1, 59% is already showing an acceptable result."
   ]
  },
  {
   "cell_type": "code",
   "execution_count": 122,
   "metadata": {},
   "outputs": [
    {
     "data": {
      "text/plain": [
       "1    2047\n",
       "2     490\n",
       "3     883\n",
       "4    2514\n",
       "5    9270\n",
       "Name: NPS, dtype: int64"
      ]
     },
     "execution_count": 122,
     "metadata": {},
     "output_type": "execute_result"
    }
   ],
   "source": [
    "# Checking the amount of each label in the dataset\n",
    "X_test.NPS.value_counts().sort_index()"
   ]
  },
  {
   "cell_type": "code",
   "execution_count": 123,
   "metadata": {},
   "outputs": [
    {
     "data": {
      "image/png": "[encoded data removed]",
      "text/plain": [
       "<Figure size 1440x576 with 1 Axes>"
      ]
     },
     "metadata": {
      "needs_background": "light"
     },
     "output_type": "display_data"
    }
   ],
   "source": [
    "# Plotting the distribution of NPS\n",
    "index = X_test.NPS.value_counts().sort_index().index.tolist()\n",
    "values = X_test.NPS.value_counts().sort_index().values.tolist()\n",
    "\n",
    "\n",
    "fig, ax = plt.subplots(figsize = (20, 8))\n",
    "plt.bar(index, values);\n",
    "plt.title('NPS distribution X_test', fontsize = 18);\n",
    "plt.ylabel('Frequency', fontsize = 16);\n",
    "plt.xlabel('Label', fontsize = 16);"
   ]
  },
  {
   "cell_type": "code",
   "execution_count": 124,
   "metadata": {},
   "outputs": [
    {
     "name": "stdout",
     "output_type": "stream",
     "text": [
      "13.463562220468297 %\n"
     ]
    }
   ],
   "source": [
    "# Calculating the proportion of label 1 for satisfied and unsatisfied customers\n",
    "print('{} %'.format((X_test.NPS.value_counts().sort_index().values[0] / X_test.shape[0]) * 100))"
   ]
  },
  {
   "cell_type": "markdown",
   "metadata": {},
   "source": [
    "Therefore, it is clear that the value of notes 1 assumes a relevant amount of **approximately 13.46%** in the distribution and works well as a condition for the dissatisfied customer retention program to be applied."
   ]
  },
  {
   "cell_type": "markdown",
   "metadata": {},
   "source": [
    "#### 4.2 Results on df_test (unknown data)\n",
    "Finally, we can apply the NPS function to df_test and analyze it in a similar way as above."
   ]
  },
  {
   "cell_type": "code",
   "execution_count": 125,
   "metadata": {},
   "outputs": [],
   "source": [
    "# Predicting the probabilities for the df_predicted dataframe\n",
    "y_predicted_prob = clf_optimized.predict_proba(df_test[selected_col])[:,1]"
   ]
  },
  {
   "cell_type": "code",
   "execution_count": 126,
   "metadata": {},
   "outputs": [
    {
     "data": {
      "text/html": [
       "<div>\n",
       "<style scoped>\n",
       "    .dataframe tbody tr th:only-of-type {\n",
       "        vertical-align: middle;\n",
       "    }\n",
       "\n",
       "    .dataframe tbody tr th {\n",
       "        vertical-align: top;\n",
       "    }\n",
       "\n",
       "    .dataframe thead th {\n",
       "        text-align: right;\n",
       "    }\n",
       "</style>\n",
       "<table border=\"1\" class=\"dataframe\">\n",
       "  <thead>\n",
       "    <tr style=\"text-align: right;\">\n",
       "      <th></th>\n",
       "      <th>ID</th>\n",
       "      <th>var3</th>\n",
       "      <th>var15</th>\n",
       "      <th>imp_ent_var16_ult1</th>\n",
       "      <th>imp_op_var39_comer_ult1</th>\n",
       "      <th>imp_op_var39_comer_ult3</th>\n",
       "      <th>imp_op_var40_comer_ult1</th>\n",
       "      <th>imp_op_var40_comer_ult3</th>\n",
       "      <th>imp_op_var40_efect_ult1</th>\n",
       "      <th>imp_op_var40_efect_ult3</th>\n",
       "      <th>...</th>\n",
       "      <th>saldo_medio_var33_hace2</th>\n",
       "      <th>saldo_medio_var33_hace3</th>\n",
       "      <th>saldo_medio_var33_ult1</th>\n",
       "      <th>saldo_medio_var33_ult3</th>\n",
       "      <th>saldo_medio_var44_hace2</th>\n",
       "      <th>saldo_medio_var44_hace3</th>\n",
       "      <th>saldo_medio_var44_ult1</th>\n",
       "      <th>saldo_medio_var44_ult3</th>\n",
       "      <th>var38</th>\n",
       "      <th>NPS</th>\n",
       "    </tr>\n",
       "  </thead>\n",
       "  <tbody>\n",
       "    <tr>\n",
       "      <th>0</th>\n",
       "      <td>2</td>\n",
       "      <td>2</td>\n",
       "      <td>32</td>\n",
       "      <td>0.0</td>\n",
       "      <td>0.0</td>\n",
       "      <td>0.0</td>\n",
       "      <td>0.0</td>\n",
       "      <td>0.0</td>\n",
       "      <td>0.0</td>\n",
       "      <td>0.0</td>\n",
       "      <td>...</td>\n",
       "      <td>0.0</td>\n",
       "      <td>0.0</td>\n",
       "      <td>0.0</td>\n",
       "      <td>0.0</td>\n",
       "      <td>0.0</td>\n",
       "      <td>0.0</td>\n",
       "      <td>0.0</td>\n",
       "      <td>0.0</td>\n",
       "      <td>40532.100000</td>\n",
       "      <td>3</td>\n",
       "    </tr>\n",
       "    <tr>\n",
       "      <th>1</th>\n",
       "      <td>5</td>\n",
       "      <td>2</td>\n",
       "      <td>35</td>\n",
       "      <td>0.0</td>\n",
       "      <td>0.0</td>\n",
       "      <td>0.0</td>\n",
       "      <td>0.0</td>\n",
       "      <td>0.0</td>\n",
       "      <td>0.0</td>\n",
       "      <td>0.0</td>\n",
       "      <td>...</td>\n",
       "      <td>0.0</td>\n",
       "      <td>0.0</td>\n",
       "      <td>0.0</td>\n",
       "      <td>0.0</td>\n",
       "      <td>0.0</td>\n",
       "      <td>0.0</td>\n",
       "      <td>0.0</td>\n",
       "      <td>0.0</td>\n",
       "      <td>45486.720000</td>\n",
       "      <td>3</td>\n",
       "    </tr>\n",
       "    <tr>\n",
       "      <th>2</th>\n",
       "      <td>6</td>\n",
       "      <td>2</td>\n",
       "      <td>23</td>\n",
       "      <td>0.0</td>\n",
       "      <td>0.0</td>\n",
       "      <td>0.0</td>\n",
       "      <td>0.0</td>\n",
       "      <td>0.0</td>\n",
       "      <td>0.0</td>\n",
       "      <td>0.0</td>\n",
       "      <td>...</td>\n",
       "      <td>0.0</td>\n",
       "      <td>0.0</td>\n",
       "      <td>0.0</td>\n",
       "      <td>0.0</td>\n",
       "      <td>0.0</td>\n",
       "      <td>0.0</td>\n",
       "      <td>0.0</td>\n",
       "      <td>0.0</td>\n",
       "      <td>46993.950000</td>\n",
       "      <td>5</td>\n",
       "    </tr>\n",
       "    <tr>\n",
       "      <th>3</th>\n",
       "      <td>7</td>\n",
       "      <td>2</td>\n",
       "      <td>24</td>\n",
       "      <td>0.0</td>\n",
       "      <td>0.0</td>\n",
       "      <td>0.0</td>\n",
       "      <td>0.0</td>\n",
       "      <td>0.0</td>\n",
       "      <td>0.0</td>\n",
       "      <td>0.0</td>\n",
       "      <td>...</td>\n",
       "      <td>0.0</td>\n",
       "      <td>0.0</td>\n",
       "      <td>0.0</td>\n",
       "      <td>0.0</td>\n",
       "      <td>0.0</td>\n",
       "      <td>0.0</td>\n",
       "      <td>0.0</td>\n",
       "      <td>0.0</td>\n",
       "      <td>187898.610000</td>\n",
       "      <td>5</td>\n",
       "    </tr>\n",
       "    <tr>\n",
       "      <th>4</th>\n",
       "      <td>9</td>\n",
       "      <td>2</td>\n",
       "      <td>23</td>\n",
       "      <td>0.0</td>\n",
       "      <td>0.0</td>\n",
       "      <td>0.0</td>\n",
       "      <td>0.0</td>\n",
       "      <td>0.0</td>\n",
       "      <td>0.0</td>\n",
       "      <td>0.0</td>\n",
       "      <td>...</td>\n",
       "      <td>0.0</td>\n",
       "      <td>0.0</td>\n",
       "      <td>0.0</td>\n",
       "      <td>0.0</td>\n",
       "      <td>0.0</td>\n",
       "      <td>0.0</td>\n",
       "      <td>0.0</td>\n",
       "      <td>0.0</td>\n",
       "      <td>73649.730000</td>\n",
       "      <td>5</td>\n",
       "    </tr>\n",
       "    <tr>\n",
       "      <th>...</th>\n",
       "      <td>...</td>\n",
       "      <td>...</td>\n",
       "      <td>...</td>\n",
       "      <td>...</td>\n",
       "      <td>...</td>\n",
       "      <td>...</td>\n",
       "      <td>...</td>\n",
       "      <td>...</td>\n",
       "      <td>...</td>\n",
       "      <td>...</td>\n",
       "      <td>...</td>\n",
       "      <td>...</td>\n",
       "      <td>...</td>\n",
       "      <td>...</td>\n",
       "      <td>...</td>\n",
       "      <td>...</td>\n",
       "      <td>...</td>\n",
       "      <td>...</td>\n",
       "      <td>...</td>\n",
       "      <td>...</td>\n",
       "      <td>...</td>\n",
       "    </tr>\n",
       "    <tr>\n",
       "      <th>75813</th>\n",
       "      <td>151831</td>\n",
       "      <td>2</td>\n",
       "      <td>23</td>\n",
       "      <td>0.0</td>\n",
       "      <td>0.0</td>\n",
       "      <td>0.0</td>\n",
       "      <td>0.0</td>\n",
       "      <td>0.0</td>\n",
       "      <td>0.0</td>\n",
       "      <td>0.0</td>\n",
       "      <td>...</td>\n",
       "      <td>0.0</td>\n",
       "      <td>0.0</td>\n",
       "      <td>0.0</td>\n",
       "      <td>0.0</td>\n",
       "      <td>0.0</td>\n",
       "      <td>0.0</td>\n",
       "      <td>0.0</td>\n",
       "      <td>0.0</td>\n",
       "      <td>40243.200000</td>\n",
       "      <td>4</td>\n",
       "    </tr>\n",
       "    <tr>\n",
       "      <th>75814</th>\n",
       "      <td>151832</td>\n",
       "      <td>2</td>\n",
       "      <td>26</td>\n",
       "      <td>0.0</td>\n",
       "      <td>0.0</td>\n",
       "      <td>0.0</td>\n",
       "      <td>0.0</td>\n",
       "      <td>0.0</td>\n",
       "      <td>0.0</td>\n",
       "      <td>0.0</td>\n",
       "      <td>...</td>\n",
       "      <td>0.0</td>\n",
       "      <td>0.0</td>\n",
       "      <td>0.0</td>\n",
       "      <td>0.0</td>\n",
       "      <td>0.0</td>\n",
       "      <td>0.0</td>\n",
       "      <td>0.0</td>\n",
       "      <td>0.0</td>\n",
       "      <td>146961.300000</td>\n",
       "      <td>5</td>\n",
       "    </tr>\n",
       "    <tr>\n",
       "      <th>75815</th>\n",
       "      <td>151833</td>\n",
       "      <td>2</td>\n",
       "      <td>24</td>\n",
       "      <td>0.0</td>\n",
       "      <td>0.0</td>\n",
       "      <td>0.0</td>\n",
       "      <td>0.0</td>\n",
       "      <td>0.0</td>\n",
       "      <td>0.0</td>\n",
       "      <td>0.0</td>\n",
       "      <td>...</td>\n",
       "      <td>0.0</td>\n",
       "      <td>0.0</td>\n",
       "      <td>0.0</td>\n",
       "      <td>0.0</td>\n",
       "      <td>0.0</td>\n",
       "      <td>0.0</td>\n",
       "      <td>0.0</td>\n",
       "      <td>0.0</td>\n",
       "      <td>167299.770000</td>\n",
       "      <td>5</td>\n",
       "    </tr>\n",
       "    <tr>\n",
       "      <th>75816</th>\n",
       "      <td>151834</td>\n",
       "      <td>2</td>\n",
       "      <td>40</td>\n",
       "      <td>0.0</td>\n",
       "      <td>0.0</td>\n",
       "      <td>0.0</td>\n",
       "      <td>0.0</td>\n",
       "      <td>0.0</td>\n",
       "      <td>0.0</td>\n",
       "      <td>0.0</td>\n",
       "      <td>...</td>\n",
       "      <td>0.0</td>\n",
       "      <td>0.0</td>\n",
       "      <td>0.0</td>\n",
       "      <td>0.0</td>\n",
       "      <td>0.0</td>\n",
       "      <td>0.0</td>\n",
       "      <td>0.0</td>\n",
       "      <td>0.0</td>\n",
       "      <td>117310.979016</td>\n",
       "      <td>3</td>\n",
       "    </tr>\n",
       "    <tr>\n",
       "      <th>75817</th>\n",
       "      <td>151837</td>\n",
       "      <td>2</td>\n",
       "      <td>23</td>\n",
       "      <td>0.0</td>\n",
       "      <td>0.0</td>\n",
       "      <td>0.0</td>\n",
       "      <td>0.0</td>\n",
       "      <td>0.0</td>\n",
       "      <td>0.0</td>\n",
       "      <td>0.0</td>\n",
       "      <td>...</td>\n",
       "      <td>0.0</td>\n",
       "      <td>0.0</td>\n",
       "      <td>0.0</td>\n",
       "      <td>0.0</td>\n",
       "      <td>0.0</td>\n",
       "      <td>0.0</td>\n",
       "      <td>0.0</td>\n",
       "      <td>0.0</td>\n",
       "      <td>117310.979016</td>\n",
       "      <td>5</td>\n",
       "    </tr>\n",
       "  </tbody>\n",
       "</table>\n",
       "<p>75818 rows × 371 columns</p>\n",
       "</div>"
      ],
      "text/plain": [
       "           ID  var3  var15  imp_ent_var16_ult1  imp_op_var39_comer_ult1  \\\n",
       "0           2     2     32                 0.0                      0.0   \n",
       "1           5     2     35                 0.0                      0.0   \n",
       "2           6     2     23                 0.0                      0.0   \n",
       "3           7     2     24                 0.0                      0.0   \n",
       "4           9     2     23                 0.0                      0.0   \n",
       "...       ...   ...    ...                 ...                      ...   \n",
       "75813  151831     2     23                 0.0                      0.0   \n",
       "75814  151832     2     26                 0.0                      0.0   \n",
       "75815  151833     2     24                 0.0                      0.0   \n",
       "75816  151834     2     40                 0.0                      0.0   \n",
       "75817  151837     2     23                 0.0                      0.0   \n",
       "\n",
       "       imp_op_var39_comer_ult3  imp_op_var40_comer_ult1  \\\n",
       "0                          0.0                      0.0   \n",
       "1                          0.0                      0.0   \n",
       "2                          0.0                      0.0   \n",
       "3                          0.0                      0.0   \n",
       "4                          0.0                      0.0   \n",
       "...                        ...                      ...   \n",
       "75813                      0.0                      0.0   \n",
       "75814                      0.0                      0.0   \n",
       "75815                      0.0                      0.0   \n",
       "75816                      0.0                      0.0   \n",
       "75817                      0.0                      0.0   \n",
       "\n",
       "       imp_op_var40_comer_ult3  imp_op_var40_efect_ult1  \\\n",
       "0                          0.0                      0.0   \n",
       "1                          0.0                      0.0   \n",
       "2                          0.0                      0.0   \n",
       "3                          0.0                      0.0   \n",
       "4                          0.0                      0.0   \n",
       "...                        ...                      ...   \n",
       "75813                      0.0                      0.0   \n",
       "75814                      0.0                      0.0   \n",
       "75815                      0.0                      0.0   \n",
       "75816                      0.0                      0.0   \n",
       "75817                      0.0                      0.0   \n",
       "\n",
       "       imp_op_var40_efect_ult3  ...  saldo_medio_var33_hace2  \\\n",
       "0                          0.0  ...                      0.0   \n",
       "1                          0.0  ...                      0.0   \n",
       "2                          0.0  ...                      0.0   \n",
       "3                          0.0  ...                      0.0   \n",
       "4                          0.0  ...                      0.0   \n",
       "...                        ...  ...                      ...   \n",
       "75813                      0.0  ...                      0.0   \n",
       "75814                      0.0  ...                      0.0   \n",
       "75815                      0.0  ...                      0.0   \n",
       "75816                      0.0  ...                      0.0   \n",
       "75817                      0.0  ...                      0.0   \n",
       "\n",
       "       saldo_medio_var33_hace3  saldo_medio_var33_ult1  \\\n",
       "0                          0.0                     0.0   \n",
       "1                          0.0                     0.0   \n",
       "2                          0.0                     0.0   \n",
       "3                          0.0                     0.0   \n",
       "4                          0.0                     0.0   \n",
       "...                        ...                     ...   \n",
       "75813                      0.0                     0.0   \n",
       "75814                      0.0                     0.0   \n",
       "75815                      0.0                     0.0   \n",
       "75816                      0.0                     0.0   \n",
       "75817                      0.0                     0.0   \n",
       "\n",
       "       saldo_medio_var33_ult3  saldo_medio_var44_hace2  \\\n",
       "0                         0.0                      0.0   \n",
       "1                         0.0                      0.0   \n",
       "2                         0.0                      0.0   \n",
       "3                         0.0                      0.0   \n",
       "4                         0.0                      0.0   \n",
       "...                       ...                      ...   \n",
       "75813                     0.0                      0.0   \n",
       "75814                     0.0                      0.0   \n",
       "75815                     0.0                      0.0   \n",
       "75816                     0.0                      0.0   \n",
       "75817                     0.0                      0.0   \n",
       "\n",
       "       saldo_medio_var44_hace3  saldo_medio_var44_ult1  \\\n",
       "0                          0.0                     0.0   \n",
       "1                          0.0                     0.0   \n",
       "2                          0.0                     0.0   \n",
       "3                          0.0                     0.0   \n",
       "4                          0.0                     0.0   \n",
       "...                        ...                     ...   \n",
       "75813                      0.0                     0.0   \n",
       "75814                      0.0                     0.0   \n",
       "75815                      0.0                     0.0   \n",
       "75816                      0.0                     0.0   \n",
       "75817                      0.0                     0.0   \n",
       "\n",
       "       saldo_medio_var44_ult3          var38  NPS  \n",
       "0                         0.0   40532.100000    3  \n",
       "1                         0.0   45486.720000    3  \n",
       "2                         0.0   46993.950000    5  \n",
       "3                         0.0  187898.610000    5  \n",
       "4                         0.0   73649.730000    5  \n",
       "...                       ...            ...  ...  \n",
       "75813                     0.0   40243.200000    4  \n",
       "75814                     0.0  146961.300000    5  \n",
       "75815                     0.0  167299.770000    5  \n",
       "75816                     0.0  117310.979016    3  \n",
       "75817                     0.0  117310.979016    5  \n",
       "\n",
       "[75818 rows x 371 columns]"
      ]
     },
     "execution_count": 126,
     "metadata": {},
     "output_type": "execute_result"
    }
   ],
   "source": [
    "NPS(df_test, y_predicted_prob)"
   ]
  },
  {
   "cell_type": "markdown",
   "metadata": {},
   "source": [
    "Since for this dataset, there is no target feature, we aren't able to analyse how many unsatisfied customers were labelled with NPS 1.\n",
    "\n",
    "**Therefore, we can analyse the distribution of labels and how it looks like in regarding the NPS distribution above. \n",
    "We can as well analyse the proportion of label 1 for the whole dataset.**"
   ]
  },
  {
   "cell_type": "code",
   "execution_count": 127,
   "metadata": {},
   "outputs": [
    {
     "data": {
      "text/plain": [
       "1     9723\n",
       "2     2335\n",
       "3     4515\n",
       "4    12617\n",
       "5    46628\n",
       "Name: NPS, dtype: int64"
      ]
     },
     "execution_count": 127,
     "metadata": {},
     "output_type": "execute_result"
    }
   ],
   "source": [
    "# Checking the amount of each label in the dataset\n",
    "df_test.NPS.value_counts().sort_index()"
   ]
  },
  {
   "cell_type": "code",
   "execution_count": 128,
   "metadata": {},
   "outputs": [
    {
     "data": {
      "image/png": "[encoded data removed]",
      "text/plain": [
       "<Figure size 1440x576 with 1 Axes>"
      ]
     },
     "metadata": {
      "needs_background": "light"
     },
     "output_type": "display_data"
    }
   ],
   "source": [
    "# Plotting the distribution of NPS for df_test\n",
    "index = df_test.NPS.value_counts().sort_index().index.tolist()\n",
    "values = df_test.NPS.value_counts().sort_index().values.tolist()\n",
    "\n",
    "\n",
    "fig, ax = plt.subplots(figsize = (20, 8))\n",
    "plt.bar(index, values);\n",
    "plt.title('NPS distribution df_test', fontsize = 18);\n",
    "plt.ylabel('Frequency', fontsize = 16);\n",
    "plt.xlabel('Label', fontsize = 16);"
   ]
  },
  {
   "cell_type": "code",
   "execution_count": 129,
   "metadata": {},
   "outputs": [
    {
     "name": "stdout",
     "output_type": "stream",
     "text": [
      "12.824131472737344 %\n"
     ]
    }
   ],
   "source": [
    "# Calculating the proportion of label 1 for satisfied and unsatisfied customers\n",
    "print('{} %'.format((df_test.NPS.value_counts().sort_index().values[0] / df_test.shape[0]) * 100))"
   ]
  },
  {
   "cell_type": "markdown",
   "metadata": {},
   "source": [
    "**Analyzing the distribution of the df_test dataset, it is clear that its behaviour is very similar to the X_test presented in the section above.**   \n",
    "\n",
    "**This finding is corroborated by the proportion of grades 1 being approximately 12.82%, something close to the 13.46% observed in the X_test dataframe.**"
   ]
  },
  {
   "cell_type": "markdown",
   "metadata": {},
   "source": [
    "Thus, it can be concluded that the NPS system has a satisfactory performance for known data (X_test) and generalized well for unknown data (df_test) and can be used as a method to control which customers should be targeted by the retention program, as well as to better understand the level of satisfaction of each customer."
   ]
  },
  {
   "cell_type": "markdown",
   "metadata": {},
   "source": [
    "### 5 Next steps\n",
    "\n",
    "For further iterations on this project in order to improve the analysis and the results, I would suggest 3 main points:\n",
    "\n",
    "- As Caio Martins (https://github.com/CaioMar/) did and suggested me, a nice improvement would be to create a function that calculates the total profit. It is possible once we have values for TP and FP. So we could precise the amount of money we will spare by using this NPS system as a double-check method for applying for the retention program.\n",
    "- Further improve the NPS system by searching modern methods for NPS."
   ]
  },
  {
   "cell_type": "markdown",
   "metadata": {},
   "source": [
    "### 6 References\n",
    "[1] Banerjee. Prashant, Comprehensive Guide on Feature Selection., https://www.kaggle.com/prashant111/comprehensive-guide-on-feature-selection  \n",
    "[2] D. Beniaguev., Advanced Feature Exploration. https://www.kaggle.com/selfishgene/advanced-feature-exploration  \n",
    "[3] M. Filho., A forma mais simples de selecionar as melhores variáveis usando Scikit-learn. https://www.youtube.com/watch?v=Bcn5e7LYMhg&t=2027s  \n",
    "[4] M. Filho., Como Remover Variáveis Irrelevantes de um Modelo de Machine Learning, https://www.youtube.com/watch?v=6-mKATDSQmk&t=1454s  \n",
    "[5] M. Filho., Como Tunar Hiperparâmetros de Machine Learning Sem Perder Tempo, https://www.youtube.com/watch?v=WhnkeasZNHI  \n",
    "[6] G. Caponetto., Random Search vs Grid Search for hyperparameter optimization, https://towardsdatascience.com/random-search-vs-grid-search-for-hyperparameter-optimization-345e1422899d  \n",
    "[7] A. JAIN., Complete Guide to Parameter Tuning in XGBoost with codes in Python, https://www.analyticsvidhya.com/blog/2016/03/complete-guide-parameter-tuning-xgboost-with-codes-python/ \n",
    "[8] How to plot ROC curve in Python, https://stackoverflow.com/questions/25009284/how-to-plot-roc-curve-in-python  \n",
    "[9] F. Santana., Algoritmo K-means: Aprenda essa Técnica Essêncial através de Exemplos Passo a Passo com Python, https://minerandodados.com.br/algoritmo-k-means-python-passo-passo/  \n",
    "[10] A. Géron., Hands-On Machine Learning with Scikit-Learn, Keras, and TensorFlow: Concepts, Tools, and Techniques to Build Intelligent Systems, Alta Books, Rio de Janeiro, 2019, 516 p.  \n",
    "[11] W. McKinney., Python for data analysis, Novatec Editora Ltda, São Paulo, 2019, 613 p.  "
   ]
  },
  {
   "cell_type": "code",
   "execution_count": null,
   "metadata": {},
   "outputs": [],
   "source": []
  }
 ],
 "metadata": {
  "kernelspec": {
   "display_name": "Python 3",
   "language": "python",
   "name": "python3"
  },
  "language_info": {
   "codemirror_mode": {
    "name": "ipython",
    "version": 3
   },
   "file_extension": ".py",
   "mimetype": "text/x-python",
   "name": "python",
   "nbconvert_exporter": "python",
   "pygments_lexer": "ipython3",
   "version": "3.7.6"
  }
 },
 "nbformat": 4,
 "nbformat_minor": 4
}
